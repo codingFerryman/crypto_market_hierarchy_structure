{
  "nbformat": 4,
  "nbformat_minor": 2,
  "metadata": {
    "colab": {
      "name": "crypto-correlation.ipynb",
      "provenance": [],
      "collapsed_sections": [],
      "toc_visible": true,
      "authorship_tag": "ABX9TyP67cD1mWKZlPiV6xUwXGjM",
      "include_colab_link": true
    },
    "kernelspec": {
      "name": "python3",
      "display_name": "Python 3.8.10 64-bit ('base': conda)"
    },
    "language_info": {
      "name": "python",
      "version": "3.8.10",
      "mimetype": "text/x-python",
      "codemirror_mode": {
        "name": "ipython",
        "version": 3
      },
      "pygments_lexer": "ipython3",
      "nbconvert_exporter": "python",
      "file_extension": ".py"
    },
    "interpreter": {
      "hash": "ff1451f766ff1f2aab9fee63bb48cc74e2e1277d7805d9df96af52a7af6088e7"
    }
  },
  "cells": [
    {
      "cell_type": "markdown",
      "source": [
        "<a href=\"https://colab.research.google.com/github/codingFerryman/crypto_market_hierarchy_structure/blob/main/src/crypto_correlation.ipynb\" target=\"_parent\"><img src=\"https://colab.research.google.com/assets/colab-badge.svg\" alt=\"Open In Colab\"/></a>"
      ],
      "metadata": {
        "id": "view-in-github",
        "colab_type": "text"
      }
    },
    {
      "cell_type": "code",
      "execution_count": 75,
      "source": [
        "import pandas as pd\n",
        "import numpy as np\n",
        "from scipy.signal import correlate\n",
        "from scipy.stats import spearmanr\n",
        "from scipy.stats import pearsonr\n",
        "import glob\n",
        "import os\n",
        "from pathlib import Path\n",
        "from utils import check_integrity, datestring_to_timestamp, load_data"
      ],
      "outputs": [],
      "metadata": {
        "id": "8TmScvJBJV_8"
      }
    },
    {
      "cell_type": "markdown",
      "source": [
        "###Preprocessing and Load data\n",
        "\n",
        "+ Preprocessing missing value\n",
        "\n",
        "+ Load data\n",
        "\n",
        "+ Build up list of original data vectors\n",
        "\n",
        "+ Get the name list of cryptocurrency"
      ],
      "metadata": {
        "id": "mSk3bjnnRdyc"
      }
    },
    {
      "cell_type": "markdown",
      "source": [
        "#### Load data, Build up list of original data vectors, Get the name list of cryptocurrency"
      ],
      "metadata": {
        "id": "g2wBILc9yN66"
      }
    },
    {
      "cell_type": "code",
      "execution_count": 74,
      "source": [
        "# Get file paths\n",
        "def get_file_path(folder_path):\n",
        "  paths = glob.glob(os.path.join(folder_path, \"*\"))\n",
        "  paths = sorted(paths)\n",
        "  return paths"
      ],
      "outputs": [],
      "metadata": {
        "id": "CsA8hxeOWn32"
      }
    },
    {
      "cell_type": "code",
      "execution_count": 134,
      "source": [
        "# create the list of crytocurrencies price records, \n",
        "# each item means the list of original price vectors of each cryptocurrency\n",
        "# each vector contains all the close prices of per day / per week (determing with time scale)\n",
        "def get_interval(timescale):\n",
        "  if timescale == '3h':\n",
        "    return 8\n",
        "  if timescale == '30m':\n",
        "    return 48\n",
        "  if timescale == '6h':\n",
        "    return 4\n",
        "\n",
        "def get_days(timescale):\n",
        "  if timescale == '1d':\n",
        "    return 1\n",
        "  if timescale =='1w':\n",
        "    return 7\n",
        "\n",
        "def build_data_list(paths, interval, timescale, start_from_timestamp, end_before_timestamp):\n",
        "  interval = get_interval(interval)\n",
        "  timescale = get_days(timescale)\n",
        "  data_list = []\n",
        "  name_list = []\n",
        "  \n",
        "  for i in range(0, len(paths)):\n",
        "    idx = 0\n",
        "    shift_idx = interval*timescale - 1\n",
        "    cryptocurrency_price_list = []\n",
        "    \n",
        "    cryptocurrency_df = load_data(start_from_timestamp, end_before_timestamp, paths[i], fill_na=True)\n",
        "    \n",
        "    #record the name of crytocurrency\n",
        "\n",
        "    name_list.append(cryptocurrency_df.index[0][1])\n",
        "\n",
        "    #discard other columns except close price\n",
        "    close_price_df = cryptocurrency_df[\"close\"]\n",
        "    #print(close_price_df.head(10))\n",
        "  \n",
        "    while shift_idx <= len(close_price_df):\n",
        "      vector = close_price_df.iloc[idx:shift_idx + 1]\n",
        "      print(len(vector))\n",
        "      #Calculate the price ratio of changing\n",
        "      vector = vector.to_frame()\n",
        "      vector = vector.pct_change().fillna(0)\n",
        "\n",
        "      cryptocurrency_price_list.append(np.asarray(vector))\n",
        "      idx += interval*timescale\n",
        "      shift_idx += interval*timescale\n",
        "\n",
        "    #print(len(cryptocurrency_price_list))\n",
        "    data_list.append(cryptocurrency_price_list)  \n",
        "\n",
        "  return data_list, name_list\n"
      ],
      "outputs": [],
      "metadata": {
        "colab": {
          "base_uri": "https://localhost:8080/"
        },
        "id": "EcpkPGeJVWX2",
        "outputId": "a2f6982f-0629-4884-8c8d-49570610b755"
      }
    },
    {
      "cell_type": "code",
      "execution_count": 191,
      "source": [
        "def build_data_list_once(paths, interval, timescale, start_from_timestamp, end_before_timestamp):\n",
        "  interval = get_interval(interval)\n",
        "  timescale = get_days(timescale)\n",
        "  \n",
        "  name_list = []\n",
        "  cryptocurrency_price_list = []\n",
        "  for i in range(0, len(paths)):\n",
        "    idx = 0\n",
        "    shift_idx = interval*timescale - 1\n",
        "    \n",
        "    \n",
        "    cryptocurrency_df = load_data(start_from_timestamp, end_before_timestamp, paths[i], fill_na=True)\n",
        "    \n",
        "    #record the name of crytocurrency\n",
        "\n",
        "    name_list.append(cryptocurrency_df.index[0][1])\n",
        "\n",
        "    #discard other columns except close price\n",
        "    close_price_df = cryptocurrency_df[\"close\"]\n",
        "  \n",
        "    vector = close_price_df.iloc[idx:shift_idx + 1]\n",
        "  \n",
        "    #Calculate the price ratio of changing\n",
        "    vector = vector.to_frame()\n",
        "    vector = vector.pct_change().fillna(0)\n",
        "   \n",
        "    flat_vector = vector['close'].values\n",
        "    #print(flat_vector)\n",
        "    cryptocurrency_price_list.append(np.asarray(flat_vector)) \n",
        "\n",
        "  return cryptocurrency_price_list, name_list"
      ],
      "outputs": [],
      "metadata": {}
    },
    {
      "cell_type": "markdown",
      "source": [
        "###Define functions to calculate correlation matrix\n",
        "\n",
        "+ Pearson correlation coefficient\n",
        "+ Spearman rank-order correlation coefficient"
      ],
      "metadata": {
        "id": "ZkjsPAbgJqjr"
      }
    },
    {
      "cell_type": "code",
      "execution_count": 78,
      "source": [
        "# Calculate correlation matrix - Pearson correlation coefficient\n",
        "def cm_pearson(x, y):\n",
        "  pccs = pearsonr(x,y)\n",
        "  return pccs[0]\n",
        "\n",
        "# Calculate correlation matrix - Spearman rank-order correlation coefficient\n",
        "def cm_spearman(x, y):\n",
        "  sccs = spearmanr(x, y)\n",
        "  return sccs[0]"
      ],
      "outputs": [],
      "metadata": {
        "id": "ZQb_OyUPKfr_"
      }
    },
    {
      "cell_type": "markdown",
      "source": [
        "###Calculate Correlation matrix"
      ],
      "metadata": {
        "id": "iENAom8cykgc"
      }
    },
    {
      "cell_type": "code",
      "execution_count": 79,
      "source": [
        "def calculate_cm(data_list, func):\n",
        "    N = len(data_list)\n",
        "    cm_res_list = []\n",
        "    cm_res = np.zeros((N,N))\n",
        "    for day in range(0, len(data_list[0])):\n",
        "      for i in range(N):\n",
        "        for j in range(N):\n",
        "          data_list[i][day] = data_list[i][day].squeeze()\n",
        "          data_list[j][day] = data_list[j][day].squeeze()\n",
        "          res = func(data_list[i][day], data_list[j][day]) \n",
        "          cm_res[i,j] = res\n",
        "      \n",
        "      cm_res_list.append(cm_res)\n",
        "    \n",
        "    return cm_res_list"
      ],
      "outputs": [],
      "metadata": {
        "id": "NyHulFW5yqZ2"
      }
    },
    {
      "cell_type": "code",
      "execution_count": 205,
      "source": [
        "def calculate_cm_once(data_list, func):\n",
        "    N = len(data_list)\n",
        "    cm_res = np.zeros((N,N))\n",
        "    for i in range(N):\n",
        "        for j in range(N):\n",
        "            res = func(data_list[i], data_list[j]) \n",
        "            cm_res[i,j] = res\n",
        "    #print(cm_res.shape)        \n",
        "    return cm_res"
      ],
      "outputs": [],
      "metadata": {}
    },
    {
      "cell_type": "code",
      "execution_count": null,
      "source": [
        "# test code\n",
        "\n",
        "data_path = \"../data\"\n",
        "start_from = \"2021-04-12\"\n",
        "end_before = \"2021-06-15\"\n",
        "interval = \"6h\"\n",
        "\n",
        "start_from_timestamp = datestring_to_timestamp(start_from)\n",
        "end_before_timestamp = datestring_to_timestamp(end_before)\n",
        "data_3h_path_list = list(Path(data_path, interval).iterdir())\n",
        "print(len(data_3h_path_list))\n",
        "coins_1D_pass = []\n",
        "for file_path in data_3h_path_list:\n",
        "    _coin_code = file_path.name.split(\"_\")[0]#\n",
        "    try:  \n",
        "        if check_integrity(start_from, end_before, file_path) is not None:\n",
        "            coins_1D_pass.append(file_path)\n",
        "    except KeyError: print(file_path)\n",
        "    \n",
        "\n",
        "print(len(coins_1D_pass))\n",
        "# load csv and build list\n",
        "crypto_data_list, name_list = build_data_list(coins_1D_pass, '6h', '1w',start_from_timestamp, end_before_timestamp)\n",
        "\n",
        "# calculate correlation matrix\n",
        "\n",
        "correlation_matrix_pearson = calculate_cm(crypto_data_list, cm_pearson)\n",
        "print(len(crypto_data_list))\n",
        "print(len(correlation_matrix_pearson))\n",
        "print(correlation_matrix_pearson[0])\n"
      ],
      "outputs": [],
      "metadata": {}
    },
    {
      "cell_type": "markdown",
      "source": [
        "### Save correlation matrix to files in format of Numpy array"
      ],
      "metadata": {
        "id": "dIyIRC8gS6Mf"
      }
    },
    {
      "cell_type": "code",
      "execution_count": 116,
      "source": [
        "np.save('0412_0615_1W_6h_69.npy', correlation_matrix_pearson, allow_pickle=True)"
      ],
      "outputs": [],
      "metadata": {}
    },
    {
      "cell_type": "code",
      "execution_count": 117,
      "source": [
        "# save namelist\n",
        "print(name_list)\n",
        "textfile = open(\"0412-0615_1W_6h_namelist.txt\", \"w\")\n",
        "for element in name_list:\n",
        "    textfile.write(element + \"\\n\")\n",
        "textfile.close()"
      ],
      "outputs": [
        {
          "output_type": "stream",
          "name": "stdout",
          "text": [
            "['VSY', 'XAUT', 'CHZ', 'DAI', 'YFI', 'VET', 'DOT', 'BAL', 'BSV', 'BOSON', 'NEO', 'SUN', 'EGLD', 'BTC', 'ETC', 'ESS', 'ETP', 'RBT', 'BCHN', 'XSN', 'UOP', 'LINK', 'CLO', 'ZRX', 'SOL', 'ANT', 'AVAX', 'MLN', 'EOS', 'IQX', 'FIL', 'OMG', 'FET', 'XRP', 'XDC', 'XVG', 'SNX', 'PLU', 'ENJ', 'KSM', 'QTM', 'LTC', 'AAVE', 'KNC', 'BTT', 'XTZ', 'ZIL', 'COMP', 'CEL', 'BTG', 'SUSHI', 'LEO', 'BAT', 'HEZ', 'XMR', 'JST', 'UOS', 'WBT', 'ZEC', 'XLM', 'XRA', 'ETH', 'MKR', 'BAND', 'GTX', 'UNI', 'TRX', 'SAN', 'ADA']\n"
          ]
        }
      ],
      "metadata": {}
    },
    {
      "cell_type": "code",
      "execution_count": null,
      "source": [
        "# calculate correlation and check integrity by timescale\n",
        "\n",
        "# timescale: daily\n",
        "data_path = \"../data\"\n",
        "\n",
        "# datarange\n",
        "date_range = pd.date_range(start=\"2021-08-16\",end=\"2021-10-18\", freq='D').strftime('%Y-%m-%d')\n",
        "#print(len(date_range))\n",
        "interval = '30m'\n",
        "\n",
        "cm_list = []\n",
        "name_lists = []\n",
        "\n",
        "for i in range(0, len(date_range)-1):\n",
        "    start_from = date_range[i]\n",
        "    end_before = date_range[i + 1]\n",
        "  \n",
        "    start_from_timestamp = datestring_to_timestamp(start_from)\n",
        "    end_before_timestamp = datestring_to_timestamp(end_before)\n",
        "\n",
        "    data_list = list(Path(data_path, interval).iterdir())\n",
        "\n",
        "    checked_list = []\n",
        "    for file_path in data_list:\n",
        "        if check_integrity(start_from, end_before, file_path) is not None:\n",
        "            checked_list.append(file_path)\n",
        "\n",
        "    # load csv and build list\n",
        "    crypto_daily_list, name_list = build_data_list_once(checked_list, '30m', '1d',start_from_timestamp, end_before_timestamp)\n",
        "\n",
        "    # calculate correlation matrix\n",
        "    correlation_matrix_pearson = calculate_cm_once(crypto_daily_list, cm_pearson)\n",
        "    print(correlation_matrix_pearson.shape)\n",
        "\n",
        "    cm_list.append(correlation_matrix_pearson)\n",
        "    name_lists.append(name_list)\n",
        "    \n"
      ],
      "outputs": [],
      "metadata": {}
    },
    {
      "cell_type": "code",
      "execution_count": null,
      "source": [
        "print(len(cm_list))\n",
        "for item in cm_list:\n",
        "    print(item.shape)"
      ],
      "outputs": [],
      "metadata": {}
    },
    {
      "cell_type": "code",
      "execution_count": null,
      "source": [
        "print(name_lists)\n",
        "for item in name_lists:\n",
        "    print(len(item))"
      ],
      "outputs": [],
      "metadata": {}
    },
    {
      "cell_type": "code",
      "execution_count": 218,
      "source": [
        "#save to .npy file\n",
        "np.save('../cm_data/0816_1018_1d_30m.npy', cm_list, allow_pickle=True)"
      ],
      "outputs": [
        {
          "output_type": "stream",
          "name": "stderr",
          "text": [
            "/opt/homebrew/Caskroom/miniconda/base/envs/outliers-vis/lib/python3.8/site-packages/numpy/core/_asarray.py:171: VisibleDeprecationWarning: Creating an ndarray from ragged nested sequences (which is a list-or-tuple of lists-or-tuples-or ndarrays with different lengths or shapes) is deprecated. If you meant to do this, you must specify 'dtype=object' when creating the ndarray.\n",
            "  return array(a, dtype, copy=False, order=order, subok=True)\n"
          ]
        }
      ],
      "metadata": {}
    },
    {
      "cell_type": "code",
      "execution_count": 219,
      "source": [
        "# save namelist\n",
        "import json\n",
        "\n",
        "with open('../cm_data/0816-1018_1d_30m_namelist.json', 'w') as f:\n",
        "    json.dump(name_lists, f)"
      ],
      "outputs": [],
      "metadata": {}
    },
    {
      "cell_type": "code",
      "execution_count": null,
      "source": [
        "# time: monthly \n",
        "\n",
        "data_path = \"../data\"\n",
        "\n",
        "# datarange\n",
        "date_range = pd.date_range(start=\"2021-08-16\",end=\"2021-10-18\", freq='7D').strftime('%Y-%m-%d')\n",
        "print(date_range)\n",
        "interval = '3h'\n",
        "\n",
        "cm_list = []\n",
        "name_lists = []\n",
        "\n",
        "for i in range(0, len(date_range)-1):\n",
        "    start_from = date_range[i]\n",
        "    end_before = date_range[i + 1]\n",
        "  \n",
        "    start_from_timestamp = datestring_to_timestamp(start_from)\n",
        "    end_before_timestamp = datestring_to_timestamp(end_before)\n",
        "\n",
        "    data_list = list(Path(data_path, interval).iterdir())\n",
        "    #print(len(data_list))\n",
        "    checked_list = []\n",
        "    for file_path in data_list:\n",
        "        if check_integrity(start_from, end_before, file_path) is not None:\n",
        "            checked_list.append(file_path)\n",
        "    #print(len(checked_list))\n",
        "    \n",
        "   \n",
        "    # load csv and build list\n",
        "    crypto_daily_list, name_list = build_data_list_once(checked_list, '3h', '1w',start_from_timestamp, end_before_timestamp)\n",
        "    print(len(crypto_daily_list))\n",
        "    print(crypto_daily_list[0].shape)\n",
        "    \n",
        "    \n",
        "    # calculate correlation matrix\n",
        "    correlation_matrix_pearson = calculate_cm_once(crypto_daily_list, cm_pearson)\n",
        "    print(correlation_matrix_pearson.shape)\n",
        "    print(\"-----------------\")\n",
        "    \n",
        "    cm_list.append(correlation_matrix_pearson)\n",
        "    name_lists.append(name_list)\n"
      ],
      "outputs": [],
      "metadata": {}
    },
    {
      "cell_type": "code",
      "execution_count": null,
      "source": [
        "print(len(cm_list))\n",
        "for item in cm_list:\n",
        "    print(item.shape)"
      ],
      "outputs": [],
      "metadata": {}
    },
    {
      "cell_type": "code",
      "execution_count": null,
      "source": [
        "print(len(name_lists))\n",
        "for item in name_lists:\n",
        "    print(len(item))"
      ],
      "outputs": [],
      "metadata": {}
    },
    {
      "cell_type": "code",
      "execution_count": 245,
      "source": [
        "#save to .npy file\n",
        "np.save('../cm_data/0816_1018_1W_3h.npy', cm_list, allow_pickle=True)"
      ],
      "outputs": [],
      "metadata": {}
    },
    {
      "cell_type": "code",
      "execution_count": 246,
      "source": [
        "# save namelist\n",
        "\n",
        "with open('../cm_data/0816-1018_1W_3h_namelist.json', 'w') as f:\n",
        "    json.dump(name_lists, f)"
      ],
      "outputs": [],
      "metadata": {}
    }
  ]
}