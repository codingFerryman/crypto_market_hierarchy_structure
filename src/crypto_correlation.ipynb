{
  "nbformat": 4,
  "nbformat_minor": 0,
  "metadata": {
    "colab": {
      "name": "crypto-correlation.ipynb",
      "provenance": [],
      "collapsed_sections": [],
      "toc_visible": true,
      "authorship_tag": "ABX9TyP67cD1mWKZlPiV6xUwXGjM",
      "include_colab_link": true
    },
    "kernelspec": {
      "name": "python3",
      "display_name": "Python 3"
    },
    "language_info": {
      "name": "python"
    }
  },
  "cells": [
    {
      "cell_type": "markdown",
      "metadata": {
        "id": "view-in-github",
        "colab_type": "text"
      },
      "source": [
        "<a href=\"https://colab.research.google.com/github/codingFerryman/crypto_market_hierarchy_structure/blob/main/src/crypto_correlation.ipynb\" target=\"_parent\"><img src=\"https://colab.research.google.com/assets/colab-badge.svg\" alt=\"Open In Colab\"/></a>"
      ]
    },
    {
      "cell_type": "code",
      "execution_count": 5,
      "metadata": {
        "id": "8TmScvJBJV_8"
      },
      "outputs": [],
      "source": [
        "import pandas as pd\n",
        "import numpy as np\n",
        "from scipy.signal import correlate\n",
        "from scipy.stats import spearmanr\n",
        "from scipy.stats import pearsonr\n",
        "import glob\n",
        "import os"
      ]
    },
    {
      "cell_type": "markdown",
      "source": [
        "###Preprocessing and Load data\n",
        "\n",
        "+ Preprocessing missing value\n",
        "\n",
        "+ Load data\n",
        "\n",
        "+ Build up list of original data vectors\n",
        "\n",
        "+ Get the name list of cryptocurrency"
      ],
      "metadata": {
        "id": "mSk3bjnnRdyc"
      }
    },
    {
      "cell_type": "markdown",
      "source": [
        "#### Load data, Build up list of original data vectors, Get the name list of cryptocurrency"
      ],
      "metadata": {
        "id": "g2wBILc9yN66"
      }
    },
    {
      "cell_type": "code",
      "source": [
        "# Get file paths\n",
        "def get_file_path(folder_path):\n",
        "  paths = glob.glob(os.path.join(folder_path, \"*\"))\n",
        "  paths = sorted(paths)\n",
        "  return paths"
      ],
      "metadata": {
        "id": "CsA8hxeOWn32"
      },
      "execution_count": 6,
      "outputs": []
    },
    {
      "cell_type": "code",
      "source": [
        "#test code\n",
        "paths = get_file_path(\"data/3h\")\n",
        "paths"
      ],
      "metadata": {
        "colab": {
          "base_uri": "https://localhost:8080/"
        },
        "id": "jT8GvK8XfrGN",
        "outputId": "df9210fd-dd56-48ea-c093-563cac2a0a5b"
      },
      "execution_count": 7,
      "outputs": [
        {
          "output_type": "execute_result",
          "data": {
            "text/plain": [
              "['data/3h/1INCH_USD_3h.csv',\n",
              " 'data/3h/AAVE_USD_3h.csv',\n",
              " 'data/3h/ADA_USD_3h.csv']"
            ]
          },
          "metadata": {},
          "execution_count": 7
        }
      ]
    },
    {
      "cell_type": "markdown",
      "source": [
        "假装拿到process好的数据文件， 按interval读"
      ],
      "metadata": {
        "id": "dgkUQFGTj4OW"
      }
    },
    {
      "cell_type": "code",
      "source": [
        "# create the list of crytocurrencies price records, \n",
        "# each item means the list of original price vectors of each cryptocurrency\n",
        "# each vector contains all the close prices of per day / per week (determing with time scale)\n",
        "def get_interval(timescale):\n",
        "  if timescale == '3h':\n",
        "    return 8\n",
        "  if timescale == '30m':\n",
        "    return 1\n",
        "\n",
        "def build_data_list(paths, timescale):\n",
        "  interval = get_interval(timescale)\n",
        "  \n",
        "  data_list = []\n",
        "  name_list = []\n",
        "  \n",
        "  for i in range(0, len(paths)):\n",
        "    idx = 0\n",
        "    shift_idx = interval - 1\n",
        "    cryptocurrency_price_list = []\n",
        "    cryptocurrency_df = pd.read_csv(paths[i])\n",
        "    # discard the last row\n",
        "    cryptocurrency_df = cryptocurrency_df.iloc[:-1 , :]\n",
        "    \n",
        "    #record the name of crytocurrency\n",
        "    name_list.append(cryptocurrency_df[\"coin\"][0])\n",
        "\n",
        "    #discard other columns except close price\n",
        "    close_price_df = cryptocurrency_df[\"close\"]\n",
        "  \n",
        "    while shift_idx <= len(close_price_df):\n",
        "      vector = close_price_df.loc[idx:shift_idx]\n",
        "      #Calculate the price ratio of changing\n",
        "      vector = vector.to_frame()\n",
        "      vector = vector.pct_change().fillna(0)\n",
        "\n",
        "      cryptocurrency_price_list.append(np.asarray(vector))\n",
        "      idx += interval\n",
        "      shift_idx += interval\n",
        "\n",
        "    print(len(cryptocurrency_price_list))\n",
        "    data_list.append(cryptocurrency_price_list)  \n",
        "\n",
        "  return data_list, name_list\n",
        "\n",
        "data_list, name_list = build_data_list(paths, '3h')"
      ],
      "metadata": {
        "colab": {
          "base_uri": "https://localhost:8080/"
        },
        "id": "EcpkPGeJVWX2",
        "outputId": "a2f6982f-0629-4884-8c8d-49570610b755"
      },
      "execution_count": 85,
      "outputs": [
        {
          "output_type": "stream",
          "name": "stdout",
          "text": [
            "63\n",
            "63\n",
            "64\n"
          ]
        }
      ]
    },
    {
      "cell_type": "markdown",
      "source": [
        "###Define functions to calculate correlation matrix\n",
        "\n",
        "+ Pearson correlation coefficient\n",
        "+ Spearman rank-order correlation coefficient"
      ],
      "metadata": {
        "id": "ZkjsPAbgJqjr"
      }
    },
    {
      "cell_type": "code",
      "source": [
        "# Calculate correlation matrix - Pearson correlation coefficient\n",
        "def cm_pearson(x, y):\n",
        "  pccs = pearsonr(x,y)\n",
        "  return pccs[0]\n",
        "\n",
        "# Calculate correlation matrix - Spearman rank-order correlation coefficient\n",
        "def cm_spearman(x, y):\n",
        "  sccs = spearmanr(x, y)\n",
        "  return sccs[0]"
      ],
      "metadata": {
        "id": "ZQb_OyUPKfr_"
      },
      "execution_count": 49,
      "outputs": []
    },
    {
      "cell_type": "markdown",
      "source": [
        "###Calculate Correlation matrix"
      ],
      "metadata": {
        "id": "iENAom8cykgc"
      }
    },
    {
      "cell_type": "code",
      "source": [
        "def calculate_cm(data_list, func):\n",
        "    N = len(data_list)\n",
        "    cm_res = np.zeros((N,N))\n",
        "    for day in range(0, len(data_list[0])):\n",
        "        for i in range(N):\n",
        "          for j in range(N):\n",
        "            data_list[i][day] = data_list[i][day].squeeze()\n",
        "            data_list[j][day] = data_list[j][day].squeeze()\n",
        "            res = func(data_list[i][day], data_list[j][day]) \n",
        "            cm_res[i,j] = res\n",
        "\n",
        "    return cm_res"
      ],
      "metadata": {
        "id": "NyHulFW5yqZ2"
      },
      "execution_count": 71,
      "outputs": []
    },
    {
      "cell_type": "code",
      "source": [
        "res = calculate_cm(data_list, cm_pearson)\n",
        "print(res.shape)\n",
        "print(res)"
      ],
      "metadata": {
        "colab": {
          "base_uri": "https://localhost:8080/"
        },
        "id": "_r4zPG8T34vR",
        "outputId": "c162ab22-dedb-40d0-af39-acc199357b21"
      },
      "execution_count": 88,
      "outputs": [
        {
          "output_type": "stream",
          "name": "stdout",
          "text": [
            "(3, 3)\n",
            "[[1.         0.6417141  0.20744414]\n",
            " [0.6417141  1.         0.36042915]\n",
            " [0.20744414 0.36042915 1.        ]]\n"
          ]
        }
      ]
    },
    {
      "cell_type": "markdown",
      "source": [
        "### Save correlation matrix to files in format of Numpy array"
      ],
      "metadata": {
        "id": "dIyIRC8gS6Mf"
      }
    }
  ]
}