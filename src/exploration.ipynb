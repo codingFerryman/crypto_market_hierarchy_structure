{
 "cells": [
  {
   "cell_type": "markdown",
   "metadata": {
    "pycharm": {
     "name": "#%% md\n"
    }
   },
   "source": [
    "## Import packages"
   ]
  },
  {
   "cell_type": "code",
   "execution_count": 6,
   "metadata": {
    "pycharm": {
     "is_executing": true,
     "name": "#%%\n"
    }
   },
   "outputs": [],
   "source": [
    "from pathlib import Path\n",
    "import os\n",
    "from utils import check_integrity"
   ]
  },
  {
   "cell_type": "markdown",
   "metadata": {
    "pycharm": {
     "name": "#%% md\n"
    }
   },
   "source": [
    "## Data Integrity Check\n",
    "\n",
    "Note: The number of all supported coins: 169"
   ]
  },
  {
   "cell_type": "code",
   "execution_count": 9,
   "metadata": {
    "pycharm": {
     "name": "#%%\n"
    }
   },
   "outputs": [],
   "source": [
    "data_dir = Path(os.getcwd(), '..', 'data').resolve()\n",
    "intervals = ['1D', '1W', '3h', '30m']\n",
    "coins_pass_check_1_3 = {}   # \"2021-01-13\" - \"2021-03-14\"\n",
    "coins_pass_check_8_10 = {}  # \"2021-08-15\" - \"2021-10-16\"\n",
    "\n",
    "for interval in intervals:\n",
    "    coins_pass_check_1_3[interval] = []\n",
    "    coins_pass_check_8_10[interval] = []\n",
    "    data_interval_dir = Path(data_dir, interval)\n",
    "    files_path_list = [p for p in data_interval_dir.iterdir()]\n",
    "    for file_path in files_path_list:\n",
    "        coin_code = file_path.name.split(\"_\")[0]\n",
    "        if check_integrity(\"2021-01-12\", \"2021-03-15\", file_path) is not None:\n",
    "            coins_pass_check_1_3[interval].append(coin_code)\n",
    "        if check_integrity(\"2021-08-15\", \"2021-10-16\", file_path) is not None:\n",
    "            coins_pass_check_8_10[interval].append(coin_code)\n"
   ]
  },
  {
   "cell_type": "code",
   "execution_count": 10,
   "metadata": {
    "pycharm": {
     "name": "#%%\n"
    }
   },
   "outputs": [
    {
     "data": {
      "text/plain": [
       "{'1D': ['BTC',\n",
       "  'ETH',\n",
       "  'AVAX',\n",
       "  'LTC',\n",
       "  'ZEC',\n",
       "  'TRX',\n",
       "  'DOT',\n",
       "  'XRP',\n",
       "  'YFI',\n",
       "  'MKR',\n",
       "  'XAUT',\n",
       "  'BCHN',\n",
       "  'EGLD',\n",
       "  'KSM',\n",
       "  'COMP',\n",
       "  'XMR',\n",
       "  'DAI',\n",
       "  'BSV',\n",
       "  'MLN',\n",
       "  'FIL',\n",
       "  'BTG',\n",
       "  'FTT',\n",
       "  'ETC',\n",
       "  'NEO',\n",
       "  'LINK',\n",
       "  'REP',\n",
       "  'BAL',\n",
       "  'UNI',\n",
       "  'QTM',\n",
       "  'BAND',\n",
       "  'OMG',\n",
       "  'SNX',\n",
       "  'ANT',\n",
       "  'GTX',\n",
       "  'HEZ',\n",
       "  'XTZ',\n",
       "  'EOS',\n",
       "  'ENJ',\n",
       "  'LEO',\n",
       "  'LRC',\n",
       "  'UOS',\n",
       "  'KNC',\n",
       "  'BAT',\n",
       "  'ADA',\n",
       "  'ZRX',\n",
       "  'PAX'],\n",
       " '1W': [],\n",
       " '3h': ['BTC',\n",
       "  'ETH',\n",
       "  'AVAX',\n",
       "  'LTC',\n",
       "  'ZEC',\n",
       "  'TRX',\n",
       "  'DOT',\n",
       "  'XRP',\n",
       "  'YFI',\n",
       "  'XAUT',\n",
       "  'BCHN',\n",
       "  'EGLD',\n",
       "  'KSM',\n",
       "  'COMP',\n",
       "  'XMR',\n",
       "  'DAI',\n",
       "  'BSV',\n",
       "  'FIL',\n",
       "  'BTG',\n",
       "  'ETC',\n",
       "  'NEO',\n",
       "  'LINK',\n",
       "  'BAL',\n",
       "  'UNI',\n",
       "  'BAND',\n",
       "  'OMG',\n",
       "  'SNX',\n",
       "  'HEZ',\n",
       "  'XTZ',\n",
       "  'EOS',\n",
       "  'LEO',\n",
       "  'UOS',\n",
       "  'BAT',\n",
       "  'ADA',\n",
       "  'ZRX',\n",
       "  'PAX'],\n",
       " '30m': ['BTC',\n",
       "  'ETH',\n",
       "  'AVAX',\n",
       "  'LTC',\n",
       "  'ZEC',\n",
       "  'TRX',\n",
       "  'DOT',\n",
       "  'XRP',\n",
       "  'YFI',\n",
       "  'XAUT',\n",
       "  'BCHN',\n",
       "  'EGLD',\n",
       "  'COMP',\n",
       "  'XMR',\n",
       "  'BSV',\n",
       "  'FIL',\n",
       "  'ETC',\n",
       "  'NEO',\n",
       "  'LINK',\n",
       "  'BAL',\n",
       "  'UNI',\n",
       "  'BAND',\n",
       "  'OMG',\n",
       "  'SNX',\n",
       "  'XTZ',\n",
       "  'EOS',\n",
       "  'LEO',\n",
       "  'UOS',\n",
       "  'ADA',\n",
       "  'ZRX']}"
      ]
     },
     "execution_count": 10,
     "metadata": {},
     "output_type": "execute_result"
    }
   ],
   "source": [
    "coins_pass_check_1_3"
   ]
  },
  {
   "cell_type": "markdown",
   "metadata": {
    "pycharm": {
     "name": "#%% md\n"
    }
   },
   "source": [
    "## Time Series Visualization"
   ]
  },
  {
   "cell_type": "code",
   "execution_count": 13,
   "metadata": {
    "pycharm": {
     "name": "#%%\n"
    }
   },
   "outputs": [],
   "source": [
    "data_interval_dir = Path(data_dir, '1D')"
   ]
  },
  {
   "cell_type": "code",
   "execution_count": 19,
   "metadata": {
    "pycharm": {
     "name": "#%%\n"
    }
   },
   "outputs": [
    {
     "data": {
      "text/plain": [
       "'AVAX'"
      ]
     },
     "execution_count": 19,
     "metadata": {},
     "output_type": "execute_result"
    }
   ],
   "source": [
    "[i for i in data_interval_dir.iterdir()][0].name.split(\"_\")[0]"
   ]
  },
  {
   "cell_type": "code",
   "execution_count": null,
   "metadata": {
    "pycharm": {
     "name": "#%%\n"
    }
   },
   "outputs": [],
   "source": []
  }
 ],
 "metadata": {
  "kernelspec": {
   "display_name": "Python 3 (ipykernel)",
   "language": "python",
   "name": "python3"
  },
  "language_info": {
   "codemirror_mode": {
    "name": "ipython",
    "version": 3
   },
   "file_extension": ".py",
   "mimetype": "text/x-python",
   "name": "python",
   "nbconvert_exporter": "python",
   "pygments_lexer": "ipython3",
   "version": "3.8.12"
  }
 },
 "nbformat": 4,
 "nbformat_minor": 1
}