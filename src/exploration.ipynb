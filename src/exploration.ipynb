{
 "cells": [
  {
   "cell_type": "markdown",
   "source": [
    "**IN PROGRESS**"
   ],
   "metadata": {
    "collapsed": false,
    "pycharm": {
     "name": "#%% md\n"
    }
   }
  },
  {
   "cell_type": "markdown",
   "source": [
    "## Import packages"
   ],
   "metadata": {
    "collapsed": false
   }
  },
  {
   "cell_type": "code",
   "execution_count": 1,
   "metadata": {
    "pycharm": {
     "name": "#%%\n"
    }
   },
   "outputs": [],
   "source": [
    "from pathlib import Path\n",
    "import os\n",
    "from utils import check_integrity"
   ]
  },
  {
   "cell_type": "markdown",
   "metadata": {
    "pycharm": {
     "name": "#%% md\n"
    }
   },
   "source": [
    "## Data Integrity Check\n",
    "\n",
    "Note: The number of all supported coins: 169"
   ]
  },
  {
   "cell_type": "code",
   "execution_count": 3,
   "metadata": {
    "pycharm": {
     "name": "#%%\n"
    }
   },
   "outputs": [],
   "source": [
    "data_dir = Path(os.getcwd(), '..', 'data').resolve()\n",
    "intervals = ['1D', '1W', '3h', '30m']\n",
    "coins_pass_check_1_3 = {}   # \"2021-01-12\" - \"2021-03-14\"\n",
    "coins_pass_check_8_10 = {}  # \"2021-08-15\" - \"2021-10-16\"\n",
    "\n",
    "for interval in intervals:\n",
    "    coins_pass_check_1_3[interval] = []\n",
    "    coins_pass_check_8_10[interval] = []\n",
    "    data_interval_dir = Path(data_dir, interval)\n",
    "    files_path_list = [p for p in data_interval_dir.iterdir() if p.suffix == '.csv']\n",
    "    for file_path in files_path_list:\n",
    "        coin_code = file_path.name.split(\"_\")[0]\n",
    "        if check_integrity(\"2021-01-11\", \"2021-03-15\", file_path) is not None:\n",
    "            coins_pass_check_1_3[interval].append(coin_code)\n",
    "        if check_integrity(\"2021-08-16\", \"2021-10-18\", file_path) is not None:\n",
    "            coins_pass_check_8_10[interval].append(coin_code)\n"
   ]
  },
  {
   "cell_type": "code",
   "execution_count": 5,
   "outputs": [
    {
     "data": {
      "text/plain": "{'1D': 73, '1W': 93, '3h': 46, '30m': 35}"
     },
     "execution_count": 5,
     "metadata": {},
     "output_type": "execute_result"
    }
   ],
   "source": [
    "{k:len(v) for k, v in coins_pass_check_1_3.items()}"
   ],
   "metadata": {
    "collapsed": false,
    "pycharm": {
     "name": "#%%\n"
    }
   }
  },
  {
   "cell_type": "code",
   "execution_count": 6,
   "outputs": [
    {
     "data": {
      "text/plain": "{'1D': 117, '1W': 130, '3h': 3, '30m': 0}"
     },
     "execution_count": 6,
     "metadata": {},
     "output_type": "execute_result"
    }
   ],
   "source": [
    "{k:len(v) for k, v in coins_pass_check_8_10.items()}"
   ],
   "metadata": {
    "collapsed": false,
    "pycharm": {
     "name": "#%%\n"
    }
   }
  },
  {
   "cell_type": "markdown",
   "metadata": {
    "pycharm": {
     "name": "#%% md\n"
    }
   },
   "source": [
    "## Time Series Visualization"
   ]
  }
 ],
 "metadata": {
  "kernelspec": {
   "display_name": "Python 3 (ipykernel)",
   "language": "python",
   "name": "python3"
  },
  "language_info": {
   "codemirror_mode": {
    "name": "ipython",
    "version": 3
   },
   "file_extension": ".py",
   "mimetype": "text/x-python",
   "name": "python",
   "nbconvert_exporter": "python",
   "pygments_lexer": "ipython3",
   "version": "3.8.12"
  }
 },
 "nbformat": 4,
 "nbformat_minor": 1
}