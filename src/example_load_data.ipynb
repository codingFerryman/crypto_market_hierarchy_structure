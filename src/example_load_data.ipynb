{
 "cells": [
  {
   "cell_type": "markdown",
   "id": "506a0113-5f82-447c-8006-8c00b65a9612",
   "metadata": {},
   "source": [
    "# How to load data\n",
    "This notebook is to show how to load data from files"
   ]
  },
  {
   "cell_type": "markdown",
   "id": "7126bc00-8580-41f6-a92c-13146ee9f29b",
   "metadata": {},
   "source": [
    "## Import packages"
   ]
  },
  {
   "cell_type": "code",
   "execution_count": 1,
   "id": "38110f61-f766-4c6a-9c42-6f39ec20d7a5",
   "metadata": {},
   "outputs": [],
   "source": [
    "from pathlib import Path\n",
    "from utils import check_integrity, datestring_to_timestamp, load_data, get_sorted_fluctuation_coins"
   ]
  },
  {
   "cell_type": "markdown",
   "id": "ea11e259-725e-4145-8524-5f8a4919e1aa",
   "metadata": {},
   "source": [
    "## Set parameters and read data"
   ]
  },
  {
   "cell_type": "code",
   "execution_count": 2,
   "id": "357eb923-b90a-4981-aca3-60ab18e538a7",
   "metadata": {},
   "outputs": [],
   "source": [
    "data_path = \"../data\"\n",
    "start_from = \"2021-01-11\"\n",
    "end_before = \"2021-03-15\"\n",
    "interval = \"3h\""
   ]
  },
  {
   "cell_type": "code",
   "id": "5c08e532-eb38-4311-b61c-434936281d9e",
   "metadata": {
    "pycharm": {
     "name": "#%%\n"
    }
   },
   "source": [
    "start_from_timestamp = datestring_to_timestamp(start_from)\n",
    "end_before_timestamp = datestring_to_timestamp(end_before)\n",
    "data_interval_path_list_raw = list(Path(data_path, interval).iterdir())\n",
    "data_1D_path_list = list(Path(data_path, '1D').iterdir())\n",
    "\n",
    "coins_1D_pass = []\n",
    "for file_path in data_1D_path_list:\n",
    "    _coin_code = file_path.name.split(\"_\")[0]\n",
    "    if check_integrity(start_from, end_before, file_path) is not None:\n",
    "        coins_1D_pass.append(_coin_code)\n",
    "print(f\"{len(coins_1D_pass)} coins have all 1D data\")"
   ],
   "execution_count": 3,
   "outputs": [
    {
     "name": "stdout",
     "output_type": "stream",
     "text": [
      "73 coins have all 1D data\n"
     ]
    }
   ]
  },
  {
   "cell_type": "code",
   "execution_count": 4,
   "outputs": [],
   "source": [
    "data_interval_path_list = [_p for _p in data_interval_path_list_raw if _p.name.split('_')[0] in coins_1D_pass]"
   ],
   "metadata": {
    "collapsed": false,
    "pycharm": {
     "name": "#%%\n"
    }
   }
  },
  {
   "cell_type": "markdown",
   "source": [
    "**Load the data of one coin from the given period**"
   ],
   "metadata": {
    "collapsed": false,
    "pycharm": {
     "name": "#%% md\n"
    }
   }
  },
  {
   "cell_type": "code",
   "execution_count": 5,
   "id": "6b3415f8-7eaa-44a5-b25a-30ec15d75a24",
   "metadata": {},
   "outputs": [
    {
     "name": "stdout",
     "output_type": "stream",
     "text": [
      "<class 'pandas.core.frame.DataFrame'>\n",
      "MultiIndex: 505 entries, (1610323200000, 'BTC') to (1615766400000, 'BTC')\n",
      "Data columns (total 4 columns):\n",
      " #   Column    Non-Null Count  Dtype              \n",
      "---  ------    --------------  -----              \n",
      " 0   close     505 non-null    float64            \n",
      " 1   volume    505 non-null    float64            \n",
      " 2   datetime  505 non-null    datetime64[ns, UTC]\n",
      " 3   is_fill   505 non-null    bool               \n",
      "dtypes: bool(1), datetime64[ns, UTC](1), float64(2)\n",
      "memory usage: 101.4+ KB\n"
     ]
    }
   ],
   "source": [
    "_file_path = data_interval_path_list[0]\n",
    "\n",
    "_data_df =  load_data(start_from_timestamp, end_before_timestamp, _file_path)\n",
    "_data_df.info()"
   ]
  },
  {
   "cell_type": "markdown",
   "source": [
    "**Load another data of one coin from the given period then concatenate the data**"
   ],
   "metadata": {
    "collapsed": false,
    "pycharm": {
     "name": "#%% md\n"
    }
   }
  },
  {
   "cell_type": "code",
   "execution_count": 6,
   "outputs": [
    {
     "name": "stdout",
     "output_type": "stream",
     "text": [
      "<class 'pandas.core.frame.DataFrame'>\n",
      "MultiIndex: 503 entries, (1610323200000, 'MKR') to (1615766400000, 'MKR')\n",
      "Data columns (total 4 columns):\n",
      " #   Column    Non-Null Count  Dtype              \n",
      "---  ------    --------------  -----              \n",
      " 0   close     503 non-null    float64            \n",
      " 1   volume    503 non-null    float64            \n",
      " 2   datetime  503 non-null    datetime64[ns, UTC]\n",
      " 3   is_fill   503 non-null    bool               \n",
      "dtypes: bool(1), datetime64[ns, UTC](1), float64(2)\n",
      "memory usage: 100.6+ KB\n"
     ]
    }
   ],
   "source": [
    "_file_path_2 = data_interval_path_list[9]\n",
    "\n",
    "_data_df_2 =  load_data(start_from_timestamp, end_before_timestamp, _file_path_2)\n",
    "_data_df_2.info()"
   ],
   "metadata": {
    "collapsed": false,
    "pycharm": {
     "name": "#%%\n"
    }
   }
  },
  {
   "cell_type": "markdown",
   "source": [
    "**Load and fill null values**"
   ],
   "metadata": {
    "collapsed": false,
    "pycharm": {
     "name": "#%% md\n"
    }
   }
  },
  {
   "cell_type": "code",
   "execution_count": 7,
   "outputs": [
    {
     "name": "stdout",
     "output_type": "stream",
     "text": [
      "<class 'pandas.core.frame.DataFrame'>\n",
      "MultiIndex: 505 entries, (1610323200000, 'MKR') to (1615766400000, 'MKR')\n",
      "Data columns (total 4 columns):\n",
      " #   Column    Non-Null Count  Dtype              \n",
      "---  ------    --------------  -----              \n",
      " 0   close     505 non-null    float64            \n",
      " 1   volume    505 non-null    float64            \n",
      " 2   datetime  505 non-null    datetime64[ns, UTC]\n",
      " 3   is_fill   505 non-null    bool               \n",
      "dtypes: bool(1), datetime64[ns, UTC](1), float64(2)\n",
      "memory usage: 50.3+ KB\n"
     ]
    }
   ],
   "source": [
    "_data_df_2_filled =  load_data(start_from_timestamp, end_before_timestamp, _file_path_2, fill_na=True)\n",
    "_data_df_2_filled.info()"
   ],
   "metadata": {
    "collapsed": false,
    "pycharm": {
     "name": "#%%\n"
    }
   }
  },
  {
   "cell_type": "markdown",
   "source": [
    "**Concatenate dataframes**"
   ],
   "metadata": {
    "collapsed": false,
    "pycharm": {
     "name": "#%% md\n"
    }
   }
  },
  {
   "cell_type": "code",
   "execution_count": 8,
   "outputs": [
    {
     "name": "stdout",
     "output_type": "stream",
     "text": [
      "<class 'pandas.core.frame.DataFrame'>\n",
      "MultiIndex: 1008 entries, (1610323200000, 'BTC') to (1615766400000, 'MKR')\n",
      "Data columns (total 4 columns):\n",
      " #   Column    Non-Null Count  Dtype              \n",
      "---  ------    --------------  -----              \n",
      " 0   close     1008 non-null   float64            \n",
      " 1   volume    1008 non-null   float64            \n",
      " 2   datetime  1008 non-null   datetime64[ns, UTC]\n",
      " 3   is_fill   1008 non-null   bool               \n",
      "dtypes: bool(1), datetime64[ns, UTC](1), float64(2)\n",
      "memory usage: 47.9+ KB\n"
     ]
    }
   ],
   "source": [
    "_new_data_df = _data_df.append(_data_df_2)\n",
    "_new_data_df.info()"
   ],
   "metadata": {
    "collapsed": false,
    "pycharm": {
     "name": "#%%\n"
    }
   }
  },
  {
   "cell_type": "markdown",
   "source": [
    "**Sorted coins by fluctuation**"
   ],
   "metadata": {
    "collapsed": false,
    "pycharm": {
     "name": "#%% md\n"
    }
   }
  },
  {
   "cell_type": "code",
   "execution_count": 15,
   "outputs": [
    {
     "name": "stdout",
     "output_type": "stream",
     "text": [
      "<class 'pandas.core.frame.DataFrame'>\n",
      "Index: 119 entries, ORS to EOSDT\n",
      "Data columns (total 2 columns):\n",
      " #   Column      Non-Null Count  Dtype  \n",
      "---  ------      --------------  -----  \n",
      " 0   close_std   119 non-null    float64\n",
      " 1   volume_sum  119 non-null    float64\n",
      "dtypes: float64(2)\n",
      "memory usage: 2.8+ KB\n"
     ]
    }
   ],
   "source": [
    "\"\"\"\n",
    "get_sorted_fluctuation_coins(\n",
    "    start_from (str, int): the timestamp or datestring of the first day\n",
    "    end_before (str, int): the timestamp or datestring of the last day\n",
    "    data_dir   (str):   the path if directory which has .csv files\n",
    "    normalize_price (bool): use MinMaxScaler() to normalize the close price if True\n",
    "    incl_coins (list, None): only return the coins in this provided list; None to return all coins\n",
    "    return_details (bool): return the standard deviations in a DataFrame if True; False to only return a list with coin codes\n",
    "    [DEPRECATED] start_from_timestamp (int): the timestamp of the first day\n",
    "    [DEPRECATED] end_before_timestamp (int): the timestamp of the last day\n",
    ")\n",
    "\"\"\"\n",
    "\n",
    "fluc_df = get_sorted_fluctuation_coins(\n",
    "    start_from=\"2021-04-14\",\n",
    "    end_before=\"2021-06-15\",\n",
    "    data_dir='../data/1D',\n",
    "    # incl_coins=ONLY_WANT_THESE_COINS,\n",
    "    normalize_price=True,\n",
    "    return_details=True,\n",
    "    interval='1D'\n",
    ")\n",
    "fluc_df.info()"
   ],
   "metadata": {
    "collapsed": false,
    "pycharm": {
     "name": "#%%\n"
    }
   }
  },
  {
   "cell_type": "code",
   "execution_count": 16,
   "outputs": [
    {
     "data": {
      "text/plain": "      close_std    volume_sum\ncoin                         \nORS    0.353142  6.775591e+08\nLUNA   0.352348  1.337474e+09\nSAN    0.345045  1.630334e+09\nQTF    0.344317  4.344900e+06\nICE    0.340424  4.391032e+07",
      "text/html": "<div>\n<style scoped>\n    .dataframe tbody tr th:only-of-type {\n        vertical-align: middle;\n    }\n\n    .dataframe tbody tr th {\n        vertical-align: top;\n    }\n\n    .dataframe thead th {\n        text-align: right;\n    }\n</style>\n<table border=\"1\" class=\"dataframe\">\n  <thead>\n    <tr style=\"text-align: right;\">\n      <th></th>\n      <th>close_std</th>\n      <th>volume_sum</th>\n    </tr>\n    <tr>\n      <th>coin</th>\n      <th></th>\n      <th></th>\n    </tr>\n  </thead>\n  <tbody>\n    <tr>\n      <th>ORS</th>\n      <td>0.353142</td>\n      <td>6.775591e+08</td>\n    </tr>\n    <tr>\n      <th>LUNA</th>\n      <td>0.352348</td>\n      <td>1.337474e+09</td>\n    </tr>\n    <tr>\n      <th>SAN</th>\n      <td>0.345045</td>\n      <td>1.630334e+09</td>\n    </tr>\n    <tr>\n      <th>QTF</th>\n      <td>0.344317</td>\n      <td>4.344900e+06</td>\n    </tr>\n    <tr>\n      <th>ICE</th>\n      <td>0.340424</td>\n      <td>4.391032e+07</td>\n    </tr>\n  </tbody>\n</table>\n</div>"
     },
     "execution_count": 16,
     "metadata": {},
     "output_type": "execute_result"
    }
   ],
   "source": [
    "fluc_df.head()"
   ],
   "metadata": {
    "collapsed": false,
    "pycharm": {
     "name": "#%%\n"
    }
   }
  },
  {
   "cell_type": "code",
   "execution_count": 17,
   "outputs": [
    {
     "data": {
      "text/plain": "       close_std    volume_sum\ncoin                          \nBFT     0.174758  9.519669e+08\nRRT     0.173251  2.366657e+08\nEUS     0.168937  1.929136e+08\nEUT     0.153312  9.153654e+07\nEOSDT   0.127864  1.214146e+06",
      "text/html": "<div>\n<style scoped>\n    .dataframe tbody tr th:only-of-type {\n        vertical-align: middle;\n    }\n\n    .dataframe tbody tr th {\n        vertical-align: top;\n    }\n\n    .dataframe thead th {\n        text-align: right;\n    }\n</style>\n<table border=\"1\" class=\"dataframe\">\n  <thead>\n    <tr style=\"text-align: right;\">\n      <th></th>\n      <th>close_std</th>\n      <th>volume_sum</th>\n    </tr>\n    <tr>\n      <th>coin</th>\n      <th></th>\n      <th></th>\n    </tr>\n  </thead>\n  <tbody>\n    <tr>\n      <th>BFT</th>\n      <td>0.174758</td>\n      <td>9.519669e+08</td>\n    </tr>\n    <tr>\n      <th>RRT</th>\n      <td>0.173251</td>\n      <td>2.366657e+08</td>\n    </tr>\n    <tr>\n      <th>EUS</th>\n      <td>0.168937</td>\n      <td>1.929136e+08</td>\n    </tr>\n    <tr>\n      <th>EUT</th>\n      <td>0.153312</td>\n      <td>9.153654e+07</td>\n    </tr>\n    <tr>\n      <th>EOSDT</th>\n      <td>0.127864</td>\n      <td>1.214146e+06</td>\n    </tr>\n  </tbody>\n</table>\n</div>"
     },
     "execution_count": 17,
     "metadata": {},
     "output_type": "execute_result"
    }
   ],
   "source": [
    "fluc_df.tail()"
   ],
   "metadata": {
    "collapsed": false,
    "pycharm": {
     "name": "#%%\n"
    }
   }
  },
  {
   "cell_type": "code",
   "execution_count": 29,
   "outputs": [
    {
     "data": {
      "text/plain": "       close_std    volume_sum\ncoin                          \nORS     0.353142  6.775591e+08\nLUNA    0.352348  1.337474e+09\nSAN     0.345045  1.630334e+09\nQTF     0.344317  4.344900e+06\nICE     0.340424  4.391032e+07\nETP     0.337074  1.099538e+09\nBAL     0.335467  2.234116e+07\nBEST    0.331503  1.421492e+07\nFIL     0.325100  8.551556e+07\nDGB     0.323351  2.338869e+09\nAVAX    0.323290  4.866000e+07\nBAND    0.318590  7.091031e+07\nWAX     0.316677  3.038879e+08\nBTC     0.314469  4.635392e+07\nBNT     0.314071  1.085406e+07\nSUKU    0.314058  4.538292e+08\nCTK     0.312515  2.739542e+07\nFUN     0.310762  1.432823e+09\nFTT     0.309595  4.587390e+07\nZIL     0.308423  5.148594e+09\nHEZ     0.307738  4.936368e+07\nRBT     0.307058  8.753295e+02\nWBT     0.306847  7.173450e+02\nKNC     0.306523  2.061409e+08\nBMI     0.305831  5.102708e+07\nXVG     0.305776  2.061833e+10\nBOSON   0.305615  1.578293e+08\nANT     0.305558  6.920617e+07\nNEO     0.304936  2.759905e+08\nBTSE    0.304192  3.556762e+07\nBAT     0.301557  1.376758e+09",
      "text/html": "<div>\n<style scoped>\n    .dataframe tbody tr th:only-of-type {\n        vertical-align: middle;\n    }\n\n    .dataframe tbody tr th {\n        vertical-align: top;\n    }\n\n    .dataframe thead th {\n        text-align: right;\n    }\n</style>\n<table border=\"1\" class=\"dataframe\">\n  <thead>\n    <tr style=\"text-align: right;\">\n      <th></th>\n      <th>close_std</th>\n      <th>volume_sum</th>\n    </tr>\n    <tr>\n      <th>coin</th>\n      <th></th>\n      <th></th>\n    </tr>\n  </thead>\n  <tbody>\n    <tr>\n      <th>ORS</th>\n      <td>0.353142</td>\n      <td>6.775591e+08</td>\n    </tr>\n    <tr>\n      <th>LUNA</th>\n      <td>0.352348</td>\n      <td>1.337474e+09</td>\n    </tr>\n    <tr>\n      <th>SAN</th>\n      <td>0.345045</td>\n      <td>1.630334e+09</td>\n    </tr>\n    <tr>\n      <th>QTF</th>\n      <td>0.344317</td>\n      <td>4.344900e+06</td>\n    </tr>\n    <tr>\n      <th>ICE</th>\n      <td>0.340424</td>\n      <td>4.391032e+07</td>\n    </tr>\n    <tr>\n      <th>ETP</th>\n      <td>0.337074</td>\n      <td>1.099538e+09</td>\n    </tr>\n    <tr>\n      <th>BAL</th>\n      <td>0.335467</td>\n      <td>2.234116e+07</td>\n    </tr>\n    <tr>\n      <th>BEST</th>\n      <td>0.331503</td>\n      <td>1.421492e+07</td>\n    </tr>\n    <tr>\n      <th>FIL</th>\n      <td>0.325100</td>\n      <td>8.551556e+07</td>\n    </tr>\n    <tr>\n      <th>DGB</th>\n      <td>0.323351</td>\n      <td>2.338869e+09</td>\n    </tr>\n    <tr>\n      <th>AVAX</th>\n      <td>0.323290</td>\n      <td>4.866000e+07</td>\n    </tr>\n    <tr>\n      <th>BAND</th>\n      <td>0.318590</td>\n      <td>7.091031e+07</td>\n    </tr>\n    <tr>\n      <th>WAX</th>\n      <td>0.316677</td>\n      <td>3.038879e+08</td>\n    </tr>\n    <tr>\n      <th>BTC</th>\n      <td>0.314469</td>\n      <td>4.635392e+07</td>\n    </tr>\n    <tr>\n      <th>BNT</th>\n      <td>0.314071</td>\n      <td>1.085406e+07</td>\n    </tr>\n    <tr>\n      <th>SUKU</th>\n      <td>0.314058</td>\n      <td>4.538292e+08</td>\n    </tr>\n    <tr>\n      <th>CTK</th>\n      <td>0.312515</td>\n      <td>2.739542e+07</td>\n    </tr>\n    <tr>\n      <th>FUN</th>\n      <td>0.310762</td>\n      <td>1.432823e+09</td>\n    </tr>\n    <tr>\n      <th>FTT</th>\n      <td>0.309595</td>\n      <td>4.587390e+07</td>\n    </tr>\n    <tr>\n      <th>ZIL</th>\n      <td>0.308423</td>\n      <td>5.148594e+09</td>\n    </tr>\n    <tr>\n      <th>HEZ</th>\n      <td>0.307738</td>\n      <td>4.936368e+07</td>\n    </tr>\n    <tr>\n      <th>RBT</th>\n      <td>0.307058</td>\n      <td>8.753295e+02</td>\n    </tr>\n    <tr>\n      <th>WBT</th>\n      <td>0.306847</td>\n      <td>7.173450e+02</td>\n    </tr>\n    <tr>\n      <th>KNC</th>\n      <td>0.306523</td>\n      <td>2.061409e+08</td>\n    </tr>\n    <tr>\n      <th>BMI</th>\n      <td>0.305831</td>\n      <td>5.102708e+07</td>\n    </tr>\n    <tr>\n      <th>XVG</th>\n      <td>0.305776</td>\n      <td>2.061833e+10</td>\n    </tr>\n    <tr>\n      <th>BOSON</th>\n      <td>0.305615</td>\n      <td>1.578293e+08</td>\n    </tr>\n    <tr>\n      <th>ANT</th>\n      <td>0.305558</td>\n      <td>6.920617e+07</td>\n    </tr>\n    <tr>\n      <th>NEO</th>\n      <td>0.304936</td>\n      <td>2.759905e+08</td>\n    </tr>\n    <tr>\n      <th>BTSE</th>\n      <td>0.304192</td>\n      <td>3.556762e+07</td>\n    </tr>\n    <tr>\n      <th>BAT</th>\n      <td>0.301557</td>\n      <td>1.376758e+09</td>\n    </tr>\n  </tbody>\n</table>\n</div>"
     },
     "execution_count": 29,
     "metadata": {},
     "output_type": "execute_result"
    }
   ],
   "source": [
    "fluc_df[fluc_df['close_std']>0.3]"
   ],
   "metadata": {
    "collapsed": false,
    "pycharm": {
     "name": "#%%\n"
    }
   }
  },
  {
   "cell_type": "code",
   "execution_count": 28,
   "outputs": [
    {
     "data": {
      "text/plain": "         close_std    volume_sum\ncoin                            \nOCEAN     0.242045  6.968424e+07\nSNX       0.241506  5.132308e+07\nKAN       0.240600  1.827767e+09\nUTK       0.240372  2.329116e+08\nUOS       0.239854  2.444419e+09\nMKR       0.239746  3.342947e+05\nGNO       0.239318  6.626398e+04\nDOGE      0.238783  1.410452e+11\nETC       0.238173  8.491384e+08\nOMG       0.235587  1.844304e+09\nB21X      0.235021  6.459059e+08\nZCN       0.231584  4.618763e+07\nLEO       0.229389  1.568581e+09\nPAX       0.229325  2.090300e+09\nCHEX      0.228215  1.433843e+08\nGTX       0.227194  4.136415e+07\nCEL       0.225652  3.288008e+08\nAAVE      0.223930  6.299398e+06\nMOB       0.223673  8.307488e+06\nCHZ       0.222137  4.353414e+09\nFORTH     0.221477  4.446825e+04\nPLU       0.218680  1.457779e+07\nSOL       0.218352  9.407308e+08\nIQX       0.216660  4.954829e+09\nKSM       0.216630  4.122010e+06\nSUN       0.214466  9.453869e+06\nPLANETS   0.210942  4.208252e+07\nADA       0.209306  3.462580e+10\nEOS       0.203682  1.550798e+10\nYFI       0.199869  2.679804e+05\nSUSHI     0.197601  3.680665e+09\nMLN       0.180235  5.899294e+05\nXCH       0.178923  1.513992e+08\nDAI       0.175281  2.127030e+09\nBFT       0.174758  9.519669e+08\nRRT       0.173251  2.366657e+08\nEUS       0.168937  1.929136e+08\nEUT       0.153312  9.153654e+07\nEOSDT     0.127864  1.214146e+06",
      "text/html": "<div>\n<style scoped>\n    .dataframe tbody tr th:only-of-type {\n        vertical-align: middle;\n    }\n\n    .dataframe tbody tr th {\n        vertical-align: top;\n    }\n\n    .dataframe thead th {\n        text-align: right;\n    }\n</style>\n<table border=\"1\" class=\"dataframe\">\n  <thead>\n    <tr style=\"text-align: right;\">\n      <th></th>\n      <th>close_std</th>\n      <th>volume_sum</th>\n    </tr>\n    <tr>\n      <th>coin</th>\n      <th></th>\n      <th></th>\n    </tr>\n  </thead>\n  <tbody>\n    <tr>\n      <th>OCEAN</th>\n      <td>0.242045</td>\n      <td>6.968424e+07</td>\n    </tr>\n    <tr>\n      <th>SNX</th>\n      <td>0.241506</td>\n      <td>5.132308e+07</td>\n    </tr>\n    <tr>\n      <th>KAN</th>\n      <td>0.240600</td>\n      <td>1.827767e+09</td>\n    </tr>\n    <tr>\n      <th>UTK</th>\n      <td>0.240372</td>\n      <td>2.329116e+08</td>\n    </tr>\n    <tr>\n      <th>UOS</th>\n      <td>0.239854</td>\n      <td>2.444419e+09</td>\n    </tr>\n    <tr>\n      <th>MKR</th>\n      <td>0.239746</td>\n      <td>3.342947e+05</td>\n    </tr>\n    <tr>\n      <th>GNO</th>\n      <td>0.239318</td>\n      <td>6.626398e+04</td>\n    </tr>\n    <tr>\n      <th>DOGE</th>\n      <td>0.238783</td>\n      <td>1.410452e+11</td>\n    </tr>\n    <tr>\n      <th>ETC</th>\n      <td>0.238173</td>\n      <td>8.491384e+08</td>\n    </tr>\n    <tr>\n      <th>OMG</th>\n      <td>0.235587</td>\n      <td>1.844304e+09</td>\n    </tr>\n    <tr>\n      <th>B21X</th>\n      <td>0.235021</td>\n      <td>6.459059e+08</td>\n    </tr>\n    <tr>\n      <th>ZCN</th>\n      <td>0.231584</td>\n      <td>4.618763e+07</td>\n    </tr>\n    <tr>\n      <th>LEO</th>\n      <td>0.229389</td>\n      <td>1.568581e+09</td>\n    </tr>\n    <tr>\n      <th>PAX</th>\n      <td>0.229325</td>\n      <td>2.090300e+09</td>\n    </tr>\n    <tr>\n      <th>CHEX</th>\n      <td>0.228215</td>\n      <td>1.433843e+08</td>\n    </tr>\n    <tr>\n      <th>GTX</th>\n      <td>0.227194</td>\n      <td>4.136415e+07</td>\n    </tr>\n    <tr>\n      <th>CEL</th>\n      <td>0.225652</td>\n      <td>3.288008e+08</td>\n    </tr>\n    <tr>\n      <th>AAVE</th>\n      <td>0.223930</td>\n      <td>6.299398e+06</td>\n    </tr>\n    <tr>\n      <th>MOB</th>\n      <td>0.223673</td>\n      <td>8.307488e+06</td>\n    </tr>\n    <tr>\n      <th>CHZ</th>\n      <td>0.222137</td>\n      <td>4.353414e+09</td>\n    </tr>\n    <tr>\n      <th>FORTH</th>\n      <td>0.221477</td>\n      <td>4.446825e+04</td>\n    </tr>\n    <tr>\n      <th>PLU</th>\n      <td>0.218680</td>\n      <td>1.457779e+07</td>\n    </tr>\n    <tr>\n      <th>SOL</th>\n      <td>0.218352</td>\n      <td>9.407308e+08</td>\n    </tr>\n    <tr>\n      <th>IQX</th>\n      <td>0.216660</td>\n      <td>4.954829e+09</td>\n    </tr>\n    <tr>\n      <th>KSM</th>\n      <td>0.216630</td>\n      <td>4.122010e+06</td>\n    </tr>\n    <tr>\n      <th>SUN</th>\n      <td>0.214466</td>\n      <td>9.453869e+06</td>\n    </tr>\n    <tr>\n      <th>PLANETS</th>\n      <td>0.210942</td>\n      <td>4.208252e+07</td>\n    </tr>\n    <tr>\n      <th>ADA</th>\n      <td>0.209306</td>\n      <td>3.462580e+10</td>\n    </tr>\n    <tr>\n      <th>EOS</th>\n      <td>0.203682</td>\n      <td>1.550798e+10</td>\n    </tr>\n    <tr>\n      <th>YFI</th>\n      <td>0.199869</td>\n      <td>2.679804e+05</td>\n    </tr>\n    <tr>\n      <th>SUSHI</th>\n      <td>0.197601</td>\n      <td>3.680665e+09</td>\n    </tr>\n    <tr>\n      <th>MLN</th>\n      <td>0.180235</td>\n      <td>5.899294e+05</td>\n    </tr>\n    <tr>\n      <th>XCH</th>\n      <td>0.178923</td>\n      <td>1.513992e+08</td>\n    </tr>\n    <tr>\n      <th>DAI</th>\n      <td>0.175281</td>\n      <td>2.127030e+09</td>\n    </tr>\n    <tr>\n      <th>BFT</th>\n      <td>0.174758</td>\n      <td>9.519669e+08</td>\n    </tr>\n    <tr>\n      <th>RRT</th>\n      <td>0.173251</td>\n      <td>2.366657e+08</td>\n    </tr>\n    <tr>\n      <th>EUS</th>\n      <td>0.168937</td>\n      <td>1.929136e+08</td>\n    </tr>\n    <tr>\n      <th>EUT</th>\n      <td>0.153312</td>\n      <td>9.153654e+07</td>\n    </tr>\n    <tr>\n      <th>EOSDT</th>\n      <td>0.127864</td>\n      <td>1.214146e+06</td>\n    </tr>\n  </tbody>\n</table>\n</div>"
     },
     "execution_count": 28,
     "metadata": {},
     "output_type": "execute_result"
    }
   ],
   "source": [
    "fluc_df[fluc_df['close_std']<0.25]"
   ],
   "metadata": {
    "collapsed": false,
    "pycharm": {
     "name": "#%%\n"
    }
   }
  },
  {
   "cell_type": "code",
   "execution_count": null,
   "outputs": [],
   "source": [],
   "metadata": {
    "collapsed": false,
    "pycharm": {
     "name": "#%%\n"
    }
   }
  }
 ],
 "metadata": {
  "kernelspec": {
   "name": "python3",
   "language": "python",
   "display_name": "Python 3 (ipykernel)"
  },
  "language_info": {
   "codemirror_mode": {
    "name": "ipython",
    "version": 3
   },
   "file_extension": ".py",
   "mimetype": "text/x-python",
   "name": "python",
   "nbconvert_exporter": "python",
   "pygments_lexer": "ipython3",
   "version": "3.8.12"
  }
 },
 "nbformat": 4,
 "nbformat_minor": 5
}