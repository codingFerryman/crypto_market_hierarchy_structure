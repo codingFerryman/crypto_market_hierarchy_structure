{
 "cells": [
  {
   "cell_type": "markdown",
   "id": "506a0113-5f82-447c-8006-8c00b65a9612",
   "metadata": {},
   "source": [
    "# How to load data\n",
    "This notebook is to show how to load data from files"
   ]
  },
  {
   "cell_type": "markdown",
   "id": "7126bc00-8580-41f6-a92c-13146ee9f29b",
   "metadata": {},
   "source": [
    "## Import packages"
   ]
  },
  {
   "cell_type": "code",
   "execution_count": 1,
   "id": "38110f61-f766-4c6a-9c42-6f39ec20d7a5",
   "metadata": {},
   "outputs": [],
   "source": [
    "from pathlib import Path\n",
    "from utils import check_integrity, datestring_to_timestamp, load_data, get_sorted_fluctuation_coins"
   ]
  },
  {
   "cell_type": "markdown",
   "id": "ea11e259-725e-4145-8524-5f8a4919e1aa",
   "metadata": {},
   "source": [
    "## Set parameters and read data"
   ]
  },
  {
   "cell_type": "code",
   "execution_count": 2,
   "id": "357eb923-b90a-4981-aca3-60ab18e538a7",
   "metadata": {},
   "outputs": [],
   "source": [
    "data_path = \"../data\"\n",
    "start_from = \"2021-01-11\"\n",
    "end_before = \"2021-03-15\"\n",
    "interval = \"3h\""
   ]
  },
  {
   "cell_type": "code",
   "id": "5c08e532-eb38-4311-b61c-434936281d9e",
   "metadata": {
    "pycharm": {
     "name": "#%%\n"
    }
   },
   "source": [
    "start_from_timestamp = datestring_to_timestamp(start_from)\n",
    "end_before_timestamp = datestring_to_timestamp(end_before)\n",
    "data_interval_path_list_raw = list(Path(data_path, interval).iterdir())\n",
    "data_1D_path_list = list(Path(data_path, '1D').iterdir())\n",
    "\n",
    "coins_1D_pass = []\n",
    "for file_path in data_1D_path_list:\n",
    "    _coin_code = file_path.name.split(\"_\")[0]\n",
    "    if check_integrity(start_from, end_before, file_path) is not None:\n",
    "        coins_1D_pass.append(_coin_code)\n",
    "print(f\"{len(coins_1D_pass)} coins have all 1D data\")"
   ],
   "execution_count": 3,
   "outputs": [
    {
     "name": "stdout",
     "output_type": "stream",
     "text": [
      "73 coins have all 1D data\n"
     ]
    }
   ]
  },
  {
   "cell_type": "code",
   "execution_count": 4,
   "outputs": [],
   "source": [
    "data_interval_path_list = [_p for _p in data_interval_path_list_raw if _p.name.split('_')[0] in coins_1D_pass]"
   ],
   "metadata": {
    "collapsed": false,
    "pycharm": {
     "name": "#%%\n"
    }
   }
  },
  {
   "cell_type": "markdown",
   "source": [
    "**Load the data of one coin from the given period**"
   ],
   "metadata": {
    "collapsed": false,
    "pycharm": {
     "name": "#%% md\n"
    }
   }
  },
  {
   "cell_type": "code",
   "execution_count": 5,
   "id": "6b3415f8-7eaa-44a5-b25a-30ec15d75a24",
   "metadata": {},
   "outputs": [
    {
     "name": "stdout",
     "output_type": "stream",
     "text": [
      "<class 'pandas.core.frame.DataFrame'>\n",
      "MultiIndex: 505 entries, (1610323200000, 'BTC') to (1615766400000, 'BTC')\n",
      "Data columns (total 4 columns):\n",
      " #   Column    Non-Null Count  Dtype              \n",
      "---  ------    --------------  -----              \n",
      " 0   close     505 non-null    float64            \n",
      " 1   volume    505 non-null    float64            \n",
      " 2   datetime  505 non-null    datetime64[ns, UTC]\n",
      " 3   is_fill   505 non-null    bool               \n",
      "dtypes: bool(1), datetime64[ns, UTC](1), float64(2)\n",
      "memory usage: 101.4+ KB\n"
     ]
    }
   ],
   "source": [
    "_file_path = data_interval_path_list[0]\n",
    "\n",
    "_data_df =  load_data(start_from_timestamp, end_before_timestamp, _file_path)\n",
    "_data_df.info()"
   ]
  },
  {
   "cell_type": "markdown",
   "source": [
    "**Load another data of one coin from the given period then concatenate the data**"
   ],
   "metadata": {
    "collapsed": false,
    "pycharm": {
     "name": "#%% md\n"
    }
   }
  },
  {
   "cell_type": "code",
   "execution_count": 6,
   "outputs": [
    {
     "name": "stdout",
     "output_type": "stream",
     "text": [
      "<class 'pandas.core.frame.DataFrame'>\n",
      "MultiIndex: 503 entries, (1610323200000, 'MKR') to (1615766400000, 'MKR')\n",
      "Data columns (total 4 columns):\n",
      " #   Column    Non-Null Count  Dtype              \n",
      "---  ------    --------------  -----              \n",
      " 0   close     503 non-null    float64            \n",
      " 1   volume    503 non-null    float64            \n",
      " 2   datetime  503 non-null    datetime64[ns, UTC]\n",
      " 3   is_fill   503 non-null    bool               \n",
      "dtypes: bool(1), datetime64[ns, UTC](1), float64(2)\n",
      "memory usage: 100.6+ KB\n"
     ]
    }
   ],
   "source": [
    "_file_path_2 = data_interval_path_list[9]\n",
    "\n",
    "_data_df_2 =  load_data(start_from_timestamp, end_before_timestamp, _file_path_2)\n",
    "_data_df_2.info()"
   ],
   "metadata": {
    "collapsed": false,
    "pycharm": {
     "name": "#%%\n"
    }
   }
  },
  {
   "cell_type": "markdown",
   "source": [
    "**Load and fill null values**"
   ],
   "metadata": {
    "collapsed": false,
    "pycharm": {
     "name": "#%% md\n"
    }
   }
  },
  {
   "cell_type": "code",
   "execution_count": 7,
   "outputs": [
    {
     "name": "stdout",
     "output_type": "stream",
     "text": [
      "<class 'pandas.core.frame.DataFrame'>\n",
      "MultiIndex: 505 entries, (1610323200000, 'MKR') to (1615766400000, 'MKR')\n",
      "Data columns (total 4 columns):\n",
      " #   Column    Non-Null Count  Dtype              \n",
      "---  ------    --------------  -----              \n",
      " 0   close     505 non-null    float64            \n",
      " 1   volume    505 non-null    float64            \n",
      " 2   datetime  505 non-null    datetime64[ns, UTC]\n",
      " 3   is_fill   505 non-null    bool               \n",
      "dtypes: bool(1), datetime64[ns, UTC](1), float64(2)\n",
      "memory usage: 50.3+ KB\n"
     ]
    }
   ],
   "source": [
    "_data_df_2_filled =  load_data(start_from_timestamp, end_before_timestamp, _file_path_2, fill_na=True)\n",
    "_data_df_2_filled.info()"
   ],
   "metadata": {
    "collapsed": false,
    "pycharm": {
     "name": "#%%\n"
    }
   }
  },
  {
   "cell_type": "markdown",
   "source": [
    "**Concatenate dataframes**"
   ],
   "metadata": {
    "collapsed": false,
    "pycharm": {
     "name": "#%% md\n"
    }
   }
  },
  {
   "cell_type": "code",
   "execution_count": 8,
   "outputs": [
    {
     "name": "stdout",
     "output_type": "stream",
     "text": [
      "<class 'pandas.core.frame.DataFrame'>\n",
      "MultiIndex: 1008 entries, (1610323200000, 'BTC') to (1615766400000, 'MKR')\n",
      "Data columns (total 4 columns):\n",
      " #   Column    Non-Null Count  Dtype              \n",
      "---  ------    --------------  -----              \n",
      " 0   close     1008 non-null   float64            \n",
      " 1   volume    1008 non-null   float64            \n",
      " 2   datetime  1008 non-null   datetime64[ns, UTC]\n",
      " 3   is_fill   1008 non-null   bool               \n",
      "dtypes: bool(1), datetime64[ns, UTC](1), float64(2)\n",
      "memory usage: 47.9+ KB\n"
     ]
    }
   ],
   "source": [
    "_new_data_df = _data_df.append(_data_df_2)\n",
    "_new_data_df.info()"
   ],
   "metadata": {
    "collapsed": false,
    "pycharm": {
     "name": "#%%\n"
    }
   }
  },
  {
   "cell_type": "markdown",
   "source": [
    "**Sorted coins by fluctuation**"
   ],
   "metadata": {
    "collapsed": false,
    "pycharm": {
     "name": "#%% md\n"
    }
   }
  },
  {
   "cell_type": "code",
   "execution_count": 9,
   "outputs": [
    {
     "name": "stdout",
     "output_type": "stream",
     "text": [
      "<class 'pandas.core.frame.DataFrame'>\n",
      "Index: 119 entries, YFI to PAX\n",
      "Data columns (total 2 columns):\n",
      " #   Column      Non-Null Count  Dtype  \n",
      "---  ------      --------------  -----  \n",
      " 0   close_std   119 non-null    float64\n",
      " 1   volume_sum  119 non-null    float64\n",
      "dtypes: float64(2)\n",
      "memory usage: 2.8+ KB\n"
     ]
    }
   ],
   "source": [
    "\"\"\"\n",
    "get_sorted_fluctuation_coins(\n",
    "    start_from (str, int): the timestamp or datestring of the first day\n",
    "    end_before (str, int): the timestamp or datestring of the last day\n",
    "    data_dir   (str):   the path if directory which has .csv files\n",
    "    normalize_price (bool): use MinMaxScaler() to normalize the close price if True\n",
    "    incl_coins (list, None): only return the coins in this provided list; None to return all coins\n",
    "    return_details (bool): return the standard deviations in a DataFrame if True; False to only return a list with coin codes\n",
    "    [DEPRECATED] start_from_timestamp (int): the timestamp of the first day\n",
    "    [DEPRECATED] end_before_timestamp (int): the timestamp of the last day\n",
    ")\n",
    "\"\"\"\n",
    "\n",
    "fluc_df = get_sorted_fluctuation_coins(\n",
    "    start_from=\"2021-04-14\",\n",
    "    end_before=\"2021-06-15\",\n",
    "    data_dir='../data/1D',\n",
    "    # incl_coins=ONLY_WANT_THESE_COINS,\n",
    "    normalize_price=False,\n",
    "    return_details=True,\n",
    "    interval='1D'\n",
    ")\n",
    "fluc_df.info()"
   ],
   "metadata": {
    "collapsed": false,
    "pycharm": {
     "name": "#%%\n"
    }
   }
  },
  {
   "cell_type": "code",
   "execution_count": 10,
   "outputs": [
    {
     "data": {
      "text/plain": "         close_std     volume_sum\ncoin                             \nYFI   10151.399072    4253.657610\nBTC    9443.343583  735776.442452\nWBT    9383.947860      11.386429\nRBT    9313.638109      13.894120\nMKR     804.739281    5306.265545",
      "text/html": "<div>\n<style scoped>\n    .dataframe tbody tr th:only-of-type {\n        vertical-align: middle;\n    }\n\n    .dataframe tbody tr th {\n        vertical-align: top;\n    }\n\n    .dataframe thead th {\n        text-align: right;\n    }\n</style>\n<table border=\"1\" class=\"dataframe\">\n  <thead>\n    <tr style=\"text-align: right;\">\n      <th></th>\n      <th>close_std</th>\n      <th>volume_sum</th>\n    </tr>\n    <tr>\n      <th>coin</th>\n      <th></th>\n      <th></th>\n    </tr>\n  </thead>\n  <tbody>\n    <tr>\n      <th>YFI</th>\n      <td>10151.399072</td>\n      <td>4253.657610</td>\n    </tr>\n    <tr>\n      <th>BTC</th>\n      <td>9443.343583</td>\n      <td>735776.442452</td>\n    </tr>\n    <tr>\n      <th>WBT</th>\n      <td>9383.947860</td>\n      <td>11.386429</td>\n    </tr>\n    <tr>\n      <th>RBT</th>\n      <td>9313.638109</td>\n      <td>13.894120</td>\n    </tr>\n    <tr>\n      <th>MKR</th>\n      <td>804.739281</td>\n      <td>5306.265545</td>\n    </tr>\n  </tbody>\n</table>\n</div>"
     },
     "execution_count": 10,
     "metadata": {},
     "output_type": "execute_result"
    }
   ],
   "source": [
    "fluc_df.head()"
   ],
   "metadata": {
    "collapsed": false,
    "pycharm": {
     "name": "#%%\n"
    }
   }
  },
  {
   "cell_type": "code",
   "execution_count": 11,
   "outputs": [
    {
     "data": {
      "text/plain": "      close_std    volume_sum\ncoin                         \nBTT    0.001735  3.321663e+09\nKAN    0.001509  3.151322e+07\nPAS    0.001380  1.281178e+07\nDAI    0.001095  3.376238e+07\nPAX    0.000927  3.426721e+07",
      "text/html": "<div>\n<style scoped>\n    .dataframe tbody tr th:only-of-type {\n        vertical-align: middle;\n    }\n\n    .dataframe tbody tr th {\n        vertical-align: top;\n    }\n\n    .dataframe thead th {\n        text-align: right;\n    }\n</style>\n<table border=\"1\" class=\"dataframe\">\n  <thead>\n    <tr style=\"text-align: right;\">\n      <th></th>\n      <th>close_std</th>\n      <th>volume_sum</th>\n    </tr>\n    <tr>\n      <th>coin</th>\n      <th></th>\n      <th></th>\n    </tr>\n  </thead>\n  <tbody>\n    <tr>\n      <th>BTT</th>\n      <td>0.001735</td>\n      <td>3.321663e+09</td>\n    </tr>\n    <tr>\n      <th>KAN</th>\n      <td>0.001509</td>\n      <td>3.151322e+07</td>\n    </tr>\n    <tr>\n      <th>PAS</th>\n      <td>0.001380</td>\n      <td>1.281178e+07</td>\n    </tr>\n    <tr>\n      <th>DAI</th>\n      <td>0.001095</td>\n      <td>3.376238e+07</td>\n    </tr>\n    <tr>\n      <th>PAX</th>\n      <td>0.000927</td>\n      <td>3.426721e+07</td>\n    </tr>\n  </tbody>\n</table>\n</div>"
     },
     "execution_count": 11,
     "metadata": {},
     "output_type": "execute_result"
    }
   ],
   "source": [
    "fluc_df.tail()"
   ],
   "metadata": {
    "collapsed": false,
    "pycharm": {
     "name": "#%%\n"
    }
   }
  },
  {
   "cell_type": "code",
   "execution_count": 14,
   "outputs": [
    {
     "data": {
      "text/plain": "          close_std    volume_sum\ncoin                             \nYFI    10151.399072  4.253658e+03\nBTC     9443.343583  7.357764e+05\nWBT     9383.947860  1.138643e+01\nRBT     9313.638109  1.389412e+01\nMKR      804.739281  5.306266e+03\nETH2X    605.917976  6.689698e+01\nETH      547.771285  7.777233e+06\nBCHN     266.827141  5.641582e+05\nCOMP     166.511896  1.205746e+05\nBSV       84.997183  7.416389e+05\nAAVE      79.279343  9.999044e+04\nXMR       74.804734  6.232626e+05\nKSM       73.044378  6.542873e+04\nLTC       66.804229  8.498085e+06\nZEC       61.718109  1.384642e+06\nXAUT      50.897656  5.089363e+03\nEGLD      44.105796  2.696218e+05\nFIL       38.704353  1.357390e+06\nGNO       34.352623  1.068774e+03\nETC       26.772946  1.347839e+07\nNEO       24.498312  4.380802e+06\nBTG       23.611430  2.030949e+05\nMLN       21.576605  9.363958e+03\nBAL       16.619918  3.546216e+05\nFTT       10.774517  7.281571e+05\nMOB       10.739419  1.318649e+05\nREP        9.841241  7.531694e+04\nLINK       8.513020  1.297894e+07\nAVAX       8.221086  7.723809e+05\nDOT        8.069857  2.970301e+07\nUNI        7.170009  1.252541e+07\nSOL        6.898804  1.493223e+07\nSUN        6.686080  1.500614e+05\nFORTH      5.982986  1.533388e+03\nQTM        4.898519  1.232450e+06\nLUNA       4.853969  2.192580e+07\nBAND       4.656717  1.125560e+06\nSNX        3.623359  8.146521e+05\nQTF        3.524307  2.069000e+05\nPLU        3.083171  2.313934e+05\nSUSHI      2.710724  5.842325e+07\nANT        2.399730  1.098511e+06\nOMG        2.104347  2.927467e+07\nEOS        2.092108  2.461583e+08\nGTX        1.864826  6.565738e+05\nICE        1.520971  7.983695e+05\nBNT        1.420948  1.722867e+05\nXTZ        1.376541  6.395533e+07\nBOSON      1.230404  2.505226e+06\nHEZ        1.136279  7.835504e+05\nNEAR       1.123936  3.076843e+06\n1INCH      1.058185  3.342664e+06",
      "text/html": "<div>\n<style scoped>\n    .dataframe tbody tr th:only-of-type {\n        vertical-align: middle;\n    }\n\n    .dataframe tbody tr th {\n        vertical-align: top;\n    }\n\n    .dataframe thead th {\n        text-align: right;\n    }\n</style>\n<table border=\"1\" class=\"dataframe\">\n  <thead>\n    <tr style=\"text-align: right;\">\n      <th></th>\n      <th>close_std</th>\n      <th>volume_sum</th>\n    </tr>\n    <tr>\n      <th>coin</th>\n      <th></th>\n      <th></th>\n    </tr>\n  </thead>\n  <tbody>\n    <tr>\n      <th>YFI</th>\n      <td>10151.399072</td>\n      <td>4.253658e+03</td>\n    </tr>\n    <tr>\n      <th>BTC</th>\n      <td>9443.343583</td>\n      <td>7.357764e+05</td>\n    </tr>\n    <tr>\n      <th>WBT</th>\n      <td>9383.947860</td>\n      <td>1.138643e+01</td>\n    </tr>\n    <tr>\n      <th>RBT</th>\n      <td>9313.638109</td>\n      <td>1.389412e+01</td>\n    </tr>\n    <tr>\n      <th>MKR</th>\n      <td>804.739281</td>\n      <td>5.306266e+03</td>\n    </tr>\n    <tr>\n      <th>ETH2X</th>\n      <td>605.917976</td>\n      <td>6.689698e+01</td>\n    </tr>\n    <tr>\n      <th>ETH</th>\n      <td>547.771285</td>\n      <td>7.777233e+06</td>\n    </tr>\n    <tr>\n      <th>BCHN</th>\n      <td>266.827141</td>\n      <td>5.641582e+05</td>\n    </tr>\n    <tr>\n      <th>COMP</th>\n      <td>166.511896</td>\n      <td>1.205746e+05</td>\n    </tr>\n    <tr>\n      <th>BSV</th>\n      <td>84.997183</td>\n      <td>7.416389e+05</td>\n    </tr>\n    <tr>\n      <th>AAVE</th>\n      <td>79.279343</td>\n      <td>9.999044e+04</td>\n    </tr>\n    <tr>\n      <th>XMR</th>\n      <td>74.804734</td>\n      <td>6.232626e+05</td>\n    </tr>\n    <tr>\n      <th>KSM</th>\n      <td>73.044378</td>\n      <td>6.542873e+04</td>\n    </tr>\n    <tr>\n      <th>LTC</th>\n      <td>66.804229</td>\n      <td>8.498085e+06</td>\n    </tr>\n    <tr>\n      <th>ZEC</th>\n      <td>61.718109</td>\n      <td>1.384642e+06</td>\n    </tr>\n    <tr>\n      <th>XAUT</th>\n      <td>50.897656</td>\n      <td>5.089363e+03</td>\n    </tr>\n    <tr>\n      <th>EGLD</th>\n      <td>44.105796</td>\n      <td>2.696218e+05</td>\n    </tr>\n    <tr>\n      <th>FIL</th>\n      <td>38.704353</td>\n      <td>1.357390e+06</td>\n    </tr>\n    <tr>\n      <th>GNO</th>\n      <td>34.352623</td>\n      <td>1.068774e+03</td>\n    </tr>\n    <tr>\n      <th>ETC</th>\n      <td>26.772946</td>\n      <td>1.347839e+07</td>\n    </tr>\n    <tr>\n      <th>NEO</th>\n      <td>24.498312</td>\n      <td>4.380802e+06</td>\n    </tr>\n    <tr>\n      <th>BTG</th>\n      <td>23.611430</td>\n      <td>2.030949e+05</td>\n    </tr>\n    <tr>\n      <th>MLN</th>\n      <td>21.576605</td>\n      <td>9.363958e+03</td>\n    </tr>\n    <tr>\n      <th>BAL</th>\n      <td>16.619918</td>\n      <td>3.546216e+05</td>\n    </tr>\n    <tr>\n      <th>FTT</th>\n      <td>10.774517</td>\n      <td>7.281571e+05</td>\n    </tr>\n    <tr>\n      <th>MOB</th>\n      <td>10.739419</td>\n      <td>1.318649e+05</td>\n    </tr>\n    <tr>\n      <th>REP</th>\n      <td>9.841241</td>\n      <td>7.531694e+04</td>\n    </tr>\n    <tr>\n      <th>LINK</th>\n      <td>8.513020</td>\n      <td>1.297894e+07</td>\n    </tr>\n    <tr>\n      <th>AVAX</th>\n      <td>8.221086</td>\n      <td>7.723809e+05</td>\n    </tr>\n    <tr>\n      <th>DOT</th>\n      <td>8.069857</td>\n      <td>2.970301e+07</td>\n    </tr>\n    <tr>\n      <th>UNI</th>\n      <td>7.170009</td>\n      <td>1.252541e+07</td>\n    </tr>\n    <tr>\n      <th>SOL</th>\n      <td>6.898804</td>\n      <td>1.493223e+07</td>\n    </tr>\n    <tr>\n      <th>SUN</th>\n      <td>6.686080</td>\n      <td>1.500614e+05</td>\n    </tr>\n    <tr>\n      <th>FORTH</th>\n      <td>5.982986</td>\n      <td>1.533388e+03</td>\n    </tr>\n    <tr>\n      <th>QTM</th>\n      <td>4.898519</td>\n      <td>1.232450e+06</td>\n    </tr>\n    <tr>\n      <th>LUNA</th>\n      <td>4.853969</td>\n      <td>2.192580e+07</td>\n    </tr>\n    <tr>\n      <th>BAND</th>\n      <td>4.656717</td>\n      <td>1.125560e+06</td>\n    </tr>\n    <tr>\n      <th>SNX</th>\n      <td>3.623359</td>\n      <td>8.146521e+05</td>\n    </tr>\n    <tr>\n      <th>QTF</th>\n      <td>3.524307</td>\n      <td>2.069000e+05</td>\n    </tr>\n    <tr>\n      <th>PLU</th>\n      <td>3.083171</td>\n      <td>2.313934e+05</td>\n    </tr>\n    <tr>\n      <th>SUSHI</th>\n      <td>2.710724</td>\n      <td>5.842325e+07</td>\n    </tr>\n    <tr>\n      <th>ANT</th>\n      <td>2.399730</td>\n      <td>1.098511e+06</td>\n    </tr>\n    <tr>\n      <th>OMG</th>\n      <td>2.104347</td>\n      <td>2.927467e+07</td>\n    </tr>\n    <tr>\n      <th>EOS</th>\n      <td>2.092108</td>\n      <td>2.461583e+08</td>\n    </tr>\n    <tr>\n      <th>GTX</th>\n      <td>1.864826</td>\n      <td>6.565738e+05</td>\n    </tr>\n    <tr>\n      <th>ICE</th>\n      <td>1.520971</td>\n      <td>7.983695e+05</td>\n    </tr>\n    <tr>\n      <th>BNT</th>\n      <td>1.420948</td>\n      <td>1.722867e+05</td>\n    </tr>\n    <tr>\n      <th>XTZ</th>\n      <td>1.376541</td>\n      <td>6.395533e+07</td>\n    </tr>\n    <tr>\n      <th>BOSON</th>\n      <td>1.230404</td>\n      <td>2.505226e+06</td>\n    </tr>\n    <tr>\n      <th>HEZ</th>\n      <td>1.136279</td>\n      <td>7.835504e+05</td>\n    </tr>\n    <tr>\n      <th>NEAR</th>\n      <td>1.123936</td>\n      <td>3.076843e+06</td>\n    </tr>\n    <tr>\n      <th>1INCH</th>\n      <td>1.058185</td>\n      <td>3.342664e+06</td>\n    </tr>\n  </tbody>\n</table>\n</div>"
     },
     "execution_count": 14,
     "metadata": {},
     "output_type": "execute_result"
    }
   ],
   "source": [
    "fluc_df[fluc_df['close_std']>1.]"
   ],
   "metadata": {
    "collapsed": false,
    "pycharm": {
     "name": "#%%\n"
    }
   }
  },
  {
   "cell_type": "code",
   "execution_count": 12,
   "outputs": [
    {
     "data": {
      "text/plain": "['YFI', 'BTC', 'WBT', 'RBT', 'MKR']"
     },
     "execution_count": 12,
     "metadata": {},
     "output_type": "execute_result"
    }
   ],
   "source": [
    "fluc_list = get_sorted_fluctuation_coins(\n",
    "    start_from=\"2021-04-14\",\n",
    "    end_before=\"2021-06-15\",\n",
    "    data_dir='../data/1D',\n",
    "    # incl_coins=ONLY_WANT_THESE_COINS,\n",
    "    normalize_price=False,\n",
    "    return_details=False,\n",
    "    interval='1D'\n",
    ")\n",
    "fluc_list[:5]"
   ],
   "metadata": {
    "collapsed": false,
    "pycharm": {
     "name": "#%%\n"
    }
   }
  },
  {
   "cell_type": "code",
   "execution_count": 13,
   "outputs": [
    {
     "data": {
      "text/plain": "['BTC', 'ETH', 'LTC', 'ZEC', 'AVAX']"
     },
     "execution_count": 13,
     "metadata": {},
     "output_type": "execute_result"
    }
   ],
   "source": [
    "fluc_list = get_sorted_fluctuation_coins(\n",
    "    start_from=\"2021-04-14\",\n",
    "    end_before=\"2021-06-15\",\n",
    "    data_dir='../data/1D',\n",
    "    incl_coins=\"BTC,ETH,AVAX,SOL,LUNA,LTC,ZEC,TRX,DOT,XRP,CTK\".split(','),\n",
    "    normalize_price=False,\n",
    "    return_details=False,\n",
    "    interval='1D'\n",
    ")\n",
    "fluc_list[:5]"
   ],
   "metadata": {
    "collapsed": false,
    "pycharm": {
     "name": "#%%\n"
    }
   }
  },
  {
   "cell_type": "code",
   "execution_count": 13,
   "outputs": [],
   "source": [],
   "metadata": {
    "collapsed": false,
    "pycharm": {
     "name": "#%%\n"
    }
   }
  }
 ],
 "metadata": {
  "kernelspec": {
   "name": "python3",
   "language": "python",
   "display_name": "Python 3 (ipykernel)"
  },
  "language_info": {
   "codemirror_mode": {
    "name": "ipython",
    "version": 3
   },
   "file_extension": ".py",
   "mimetype": "text/x-python",
   "name": "python",
   "nbconvert_exporter": "python",
   "pygments_lexer": "ipython3",
   "version": "3.8.12"
  }
 },
 "nbformat": 4,
 "nbformat_minor": 5
}