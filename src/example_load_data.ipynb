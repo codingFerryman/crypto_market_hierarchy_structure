{
 "cells": [
  {
   "cell_type": "markdown",
   "id": "506a0113-5f82-447c-8006-8c00b65a9612",
   "metadata": {},
   "source": [
    "# How to load data\n",
    "This notebook is to show how to load data from files"
   ]
  },
  {
   "cell_type": "markdown",
   "id": "7126bc00-8580-41f6-a92c-13146ee9f29b",
   "metadata": {},
   "source": [
    "## Import packages"
   ]
  },
  {
   "cell_type": "code",
   "execution_count": 30,
   "id": "38110f61-f766-4c6a-9c42-6f39ec20d7a5",
   "metadata": {},
   "outputs": [],
   "source": [
    "from pathlib import Path\n",
    "from utils import check_integrity, datestring_to_timestamp, load_data"
   ]
  },
  {
   "cell_type": "markdown",
   "id": "ea11e259-725e-4145-8524-5f8a4919e1aa",
   "metadata": {},
   "source": [
    "## Set parameters and read data"
   ]
  },
  {
   "cell_type": "code",
   "execution_count": 23,
   "id": "357eb923-b90a-4981-aca3-60ab18e538a7",
   "metadata": {},
   "outputs": [],
   "source": [
    "data_root_dir = \"../data\"\n",
    "start_from = \"2021-01-11\"\n",
    "end_before = \"2021-03-15\"\n",
    "interval = \"3h\""
   ]
  },
  {
   "cell_type": "code",
   "id": "5c08e532-eb38-4311-b61c-434936281d9e",
   "metadata": {
    "pycharm": {
     "name": "#%%\n"
    }
   },
   "source": [
    "start_from_timestamp = datestring_to_timestamp(start_from)\n",
    "end_before_timestamp = datestring_to_timestamp(end_before)\n",
    "data_interval_path_list_raw = list(Path(data_root_dir, interval).iterdir())\n",
    "data_1D_path_list = list(Path(data_root_dir, '1D').iterdir())\n",
    "\n",
    "coins_1D_pass = []\n",
    "for file_path in data_1D_path_list:\n",
    "    _coin_code = file_path.name.split(\"_\")[0]\n",
    "    if check_integrity(start_from, end_before, file_path) is not None:\n",
    "        coins_1D_pass.append(_coin_code)\n",
    "print(f\"{len(coins_1D_pass)} coins have all 1D data\")"
   ],
   "execution_count": 24,
   "outputs": [
    {
     "name": "stdout",
     "output_type": "stream",
     "text": [
      "73 coins have all 1D data\n"
     ]
    }
   ]
  },
  {
   "cell_type": "code",
   "execution_count": 25,
   "outputs": [],
   "source": [
    "data_interval_path_list = [_p for _p in data_interval_path_list_raw if _p.name.split('_')[0] in coins_1D_pass]"
   ],
   "metadata": {
    "collapsed": false,
    "pycharm": {
     "name": "#%%\n"
    }
   }
  },
  {
   "cell_type": "markdown",
   "source": [
    "**Load the data of one coin from the given period**"
   ],
   "metadata": {
    "collapsed": false,
    "pycharm": {
     "name": "#%% md\n"
    }
   }
  },
  {
   "cell_type": "code",
   "execution_count": 26,
   "id": "6b3415f8-7eaa-44a5-b25a-30ec15d75a24",
   "metadata": {},
   "outputs": [
    {
     "name": "stdout",
     "output_type": "stream",
     "text": [
      "<class 'pandas.core.frame.DataFrame'>\n",
      "MultiIndex: 505 entries, (1610323200000, 'BTC') to (1615766400000, 'BTC')\n",
      "Data columns (total 4 columns):\n",
      " #   Column    Non-Null Count  Dtype              \n",
      "---  ------    --------------  -----              \n",
      " 0   close     505 non-null    float64            \n",
      " 1   volume    505 non-null    float64            \n",
      " 2   datetime  505 non-null    datetime64[ns, UTC]\n",
      " 3   is_fill   505 non-null    bool               \n",
      "dtypes: bool(1), datetime64[ns, UTC](1), float64(2)\n",
      "memory usage: 54.4+ KB\n"
     ]
    }
   ],
   "source": [
    "_file_path = data_interval_path_list[0]\n",
    "\n",
    "_data_df =  load_data(start_from_timestamp, end_before_timestamp, _file_path)\n",
    "_data_df.info()"
   ]
  },
  {
   "cell_type": "markdown",
   "source": [
    "**Load another data of one coin from the given period then concatenate the data**"
   ],
   "metadata": {
    "collapsed": false,
    "pycharm": {
     "name": "#%% md\n"
    }
   }
  },
  {
   "cell_type": "code",
   "execution_count": 27,
   "outputs": [
    {
     "name": "stdout",
     "output_type": "stream",
     "text": [
      "<class 'pandas.core.frame.DataFrame'>\n",
      "MultiIndex: 503 entries, (1610323200000, 'MKR') to (1615766400000, 'MKR')\n",
      "Data columns (total 4 columns):\n",
      " #   Column    Non-Null Count  Dtype              \n",
      "---  ------    --------------  -----              \n",
      " 0   close     503 non-null    float64            \n",
      " 1   volume    503 non-null    float64            \n",
      " 2   datetime  503 non-null    datetime64[ns, UTC]\n",
      " 3   is_fill   503 non-null    bool               \n",
      "dtypes: bool(1), datetime64[ns, UTC](1), float64(2)\n",
      "memory usage: 54.2+ KB\n"
     ]
    }
   ],
   "source": [
    "_file_path_2 = data_interval_path_list[9]\n",
    "\n",
    "_data_df_2 =  load_data(start_from_timestamp, end_before_timestamp, _file_path_2)\n",
    "_data_df_2.info()"
   ],
   "metadata": {
    "collapsed": false,
    "pycharm": {
     "name": "#%%\n"
    }
   }
  },
  {
   "cell_type": "markdown",
   "source": [
    "**Load and fill null values**"
   ],
   "metadata": {
    "collapsed": false,
    "pycharm": {
     "name": "#%% md\n"
    }
   }
  },
  {
   "cell_type": "code",
   "execution_count": 28,
   "outputs": [
    {
     "name": "stdout",
     "output_type": "stream",
     "text": [
      "<class 'pandas.core.frame.DataFrame'>\n",
      "MultiIndex: 505 entries, (1610323200000, 'MKR') to (1615766400000, 'MKR')\n",
      "Data columns (total 4 columns):\n",
      " #   Column    Non-Null Count  Dtype              \n",
      "---  ------    --------------  -----              \n",
      " 0   close     505 non-null    float64            \n",
      " 1   volume    505 non-null    float64            \n",
      " 2   datetime  505 non-null    datetime64[ns, UTC]\n",
      " 3   is_fill   505 non-null    bool               \n",
      "dtypes: bool(1), datetime64[ns, UTC](1), float64(2)\n",
      "memory usage: 50.3+ KB\n"
     ]
    }
   ],
   "source": [
    "_data_df_2_filled =  load_data(start_from_timestamp, end_before_timestamp, _file_path_2, fill_na=True)\n",
    "_data_df_2_filled.info()"
   ],
   "metadata": {
    "collapsed": false,
    "pycharm": {
     "name": "#%%\n"
    }
   }
  },
  {
   "cell_type": "markdown",
   "source": [
    "**Concatenate dataframes**"
   ],
   "metadata": {
    "collapsed": false,
    "pycharm": {
     "name": "#%% md\n"
    }
   }
  },
  {
   "cell_type": "code",
   "execution_count": 29,
   "outputs": [
    {
     "name": "stdout",
     "output_type": "stream",
     "text": [
      "<class 'pandas.core.frame.DataFrame'>\n",
      "MultiIndex: 1008 entries, (1610323200000, 'BTC') to (1615766400000, 'MKR')\n",
      "Data columns (total 4 columns):\n",
      " #   Column    Non-Null Count  Dtype              \n",
      "---  ------    --------------  -----              \n",
      " 0   close     1008 non-null   float64            \n",
      " 1   volume    1008 non-null   float64            \n",
      " 2   datetime  1008 non-null   datetime64[ns, UTC]\n",
      " 3   is_fill   1008 non-null   bool               \n",
      "dtypes: bool(1), datetime64[ns, UTC](1), float64(2)\n",
      "memory usage: 47.9+ KB\n"
     ]
    }
   ],
   "source": [
    "_new_data_df = _data_df.append(_data_df_2)\n",
    "_new_data_df.info()"
   ],
   "metadata": {
    "collapsed": false,
    "pycharm": {
     "name": "#%%\n"
    }
   }
  },
  {
   "cell_type": "code",
   "execution_count": 29,
   "outputs": [],
   "source": [],
   "metadata": {
    "collapsed": false,
    "pycharm": {
     "name": "#%%\n"
    }
   }
  }
 ],
 "metadata": {
  "kernelspec": {
   "name": "network_science",
   "language": "python",
   "display_name": "network_science"
  },
  "language_info": {
   "codemirror_mode": {
    "name": "ipython",
    "version": 3
   },
   "file_extension": ".py",
   "mimetype": "text/x-python",
   "name": "python",
   "nbconvert_exporter": "python",
   "pygments_lexer": "ipython3",
   "version": "3.8.12"
  }
 },
 "nbformat": 4,
 "nbformat_minor": 5
}