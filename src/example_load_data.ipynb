{
 "cells": [
  {
   "cell_type": "markdown",
   "id": "506a0113-5f82-447c-8006-8c00b65a9612",
   "metadata": {},
   "source": [
    "# How to load data\n",
    "This notebook is to show how to load data from files"
   ]
  },
  {
   "cell_type": "markdown",
   "id": "7126bc00-8580-41f6-a92c-13146ee9f29b",
   "metadata": {},
   "source": [
    "## Import packages"
   ]
  },
  {
   "cell_type": "code",
   "execution_count": 1,
   "id": "38110f61-f766-4c6a-9c42-6f39ec20d7a5",
   "metadata": {},
   "outputs": [],
   "source": [
    "from pathlib import Path\n",
    "from utils import check_integrity, datestring_to_timestamp, load_data, get_sorted_fluctuation_coins"
   ]
  },
  {
   "cell_type": "markdown",
   "id": "ea11e259-725e-4145-8524-5f8a4919e1aa",
   "metadata": {},
   "source": [
    "## Set parameters and read data"
   ]
  },
  {
   "cell_type": "code",
   "execution_count": 2,
   "id": "357eb923-b90a-4981-aca3-60ab18e538a7",
   "metadata": {},
   "outputs": [],
   "source": [
    "data_path = \"../data\"\n",
    "start_from = \"2021-01-11\"\n",
    "end_before = \"2021-03-15\"\n",
    "interval = \"3h\""
   ]
  },
  {
   "cell_type": "code",
   "id": "5c08e532-eb38-4311-b61c-434936281d9e",
   "metadata": {
    "pycharm": {
     "name": "#%%\n"
    }
   },
   "source": [
    "start_from_timestamp = datestring_to_timestamp(start_from)\n",
    "end_before_timestamp = datestring_to_timestamp(end_before)\n",
    "data_interval_path_list_raw = list(Path(data_path, interval).iterdir())\n",
    "data_1D_path_list = list(Path(data_path, '1D').iterdir())\n",
    "\n",
    "coins_1D_pass = []\n",
    "for file_path in data_1D_path_list:\n",
    "    _coin_code = file_path.name.split(\"_\")[0]\n",
    "    if check_integrity(start_from, end_before, file_path) is not None:\n",
    "        coins_1D_pass.append(_coin_code)\n",
    "print(f\"{len(coins_1D_pass)} coins have all 1D data\")"
   ],
   "execution_count": 3,
   "outputs": [
    {
     "name": "stdout",
     "output_type": "stream",
     "text": [
      "86 coins have all 1D data\n"
     ]
    }
   ]
  },
  {
   "cell_type": "code",
   "execution_count": 4,
   "outputs": [],
   "source": [
    "data_interval_path_list = [_p for _p in data_interval_path_list_raw if _p.name.split('_')[0] in coins_1D_pass]"
   ],
   "metadata": {
    "collapsed": false,
    "pycharm": {
     "name": "#%%\n"
    }
   }
  },
  {
   "cell_type": "markdown",
   "source": [
    "**Load the data of one coin from the given period**"
   ],
   "metadata": {
    "collapsed": false,
    "pycharm": {
     "name": "#%% md\n"
    }
   }
  },
  {
   "cell_type": "code",
   "execution_count": 5,
   "id": "6b3415f8-7eaa-44a5-b25a-30ec15d75a24",
   "metadata": {},
   "outputs": [
    {
     "name": "stdout",
     "output_type": "stream",
     "text": [
      "<class 'pandas.core.frame.DataFrame'>\n",
      "MultiIndex: 505 entries, (1610323200000, 'BTC') to (1615766400000, 'BTC')\n",
      "Data columns (total 4 columns):\n",
      " #   Column    Non-Null Count  Dtype              \n",
      "---  ------    --------------  -----              \n",
      " 0   close     505 non-null    float64            \n",
      " 1   volume    505 non-null    float64            \n",
      " 2   datetime  505 non-null    datetime64[ns, UTC]\n",
      " 3   is_fill   505 non-null    bool               \n",
      "dtypes: bool(1), datetime64[ns, UTC](1), float64(2)\n",
      "memory usage: 101.4+ KB\n"
     ]
    }
   ],
   "source": [
    "_file_path = data_interval_path_list[0]\n",
    "\n",
    "_data_df =  load_data(start_from_timestamp, end_before_timestamp, _file_path)\n",
    "_data_df.info()"
   ]
  },
  {
   "cell_type": "markdown",
   "source": [
    "**Load another data of one coin from the given period then concatenate the data**"
   ],
   "metadata": {
    "collapsed": false,
    "pycharm": {
     "name": "#%% md\n"
    }
   }
  },
  {
   "cell_type": "code",
   "execution_count": 6,
   "outputs": [
    {
     "name": "stdout",
     "output_type": "stream",
     "text": [
      "<class 'pandas.core.frame.DataFrame'>\n",
      "MultiIndex: 503 entries, (1610323200000, 'MKR') to (1615766400000, 'MKR')\n",
      "Data columns (total 4 columns):\n",
      " #   Column    Non-Null Count  Dtype              \n",
      "---  ------    --------------  -----              \n",
      " 0   close     503 non-null    float64            \n",
      " 1   volume    503 non-null    float64            \n",
      " 2   datetime  503 non-null    datetime64[ns, UTC]\n",
      " 3   is_fill   503 non-null    bool               \n",
      "dtypes: bool(1), datetime64[ns, UTC](1), float64(2)\n",
      "memory usage: 100.6+ KB\n"
     ]
    }
   ],
   "source": [
    "_file_path_2 = data_interval_path_list[9]\n",
    "\n",
    "_data_df_2 =  load_data(start_from_timestamp, end_before_timestamp, _file_path_2)\n",
    "_data_df_2.info()"
   ],
   "metadata": {
    "collapsed": false,
    "pycharm": {
     "name": "#%%\n"
    }
   }
  },
  {
   "cell_type": "markdown",
   "source": [
    "**Load and fill null values**"
   ],
   "metadata": {
    "collapsed": false,
    "pycharm": {
     "name": "#%% md\n"
    }
   }
  },
  {
   "cell_type": "code",
   "execution_count": 7,
   "outputs": [
    {
     "name": "stdout",
     "output_type": "stream",
     "text": [
      "<class 'pandas.core.frame.DataFrame'>\n",
      "MultiIndex: 505 entries, (1610323200000, 'MKR') to (1615766400000, 'MKR')\n",
      "Data columns (total 4 columns):\n",
      " #   Column    Non-Null Count  Dtype              \n",
      "---  ------    --------------  -----              \n",
      " 0   close     505 non-null    float64            \n",
      " 1   volume    505 non-null    float64            \n",
      " 2   datetime  505 non-null    datetime64[ns, UTC]\n",
      " 3   is_fill   505 non-null    bool               \n",
      "dtypes: bool(1), datetime64[ns, UTC](1), float64(2)\n",
      "memory usage: 50.3+ KB\n"
     ]
    }
   ],
   "source": [
    "_data_df_2_filled =  load_data(start_from_timestamp, end_before_timestamp, _file_path_2, fill_na=True)\n",
    "_data_df_2_filled.info()"
   ],
   "metadata": {
    "collapsed": false,
    "pycharm": {
     "name": "#%%\n"
    }
   }
  },
  {
   "cell_type": "markdown",
   "source": [
    "**Concatenate dataframes**"
   ],
   "metadata": {
    "collapsed": false,
    "pycharm": {
     "name": "#%% md\n"
    }
   }
  },
  {
   "cell_type": "code",
   "execution_count": 8,
   "outputs": [
    {
     "name": "stdout",
     "output_type": "stream",
     "text": [
      "<class 'pandas.core.frame.DataFrame'>\n",
      "MultiIndex: 1008 entries, (1610323200000, 'BTC') to (1615766400000, 'MKR')\n",
      "Data columns (total 4 columns):\n",
      " #   Column    Non-Null Count  Dtype              \n",
      "---  ------    --------------  -----              \n",
      " 0   close     1008 non-null   float64            \n",
      " 1   volume    1008 non-null   float64            \n",
      " 2   datetime  1008 non-null   datetime64[ns, UTC]\n",
      " 3   is_fill   1008 non-null   bool               \n",
      "dtypes: bool(1), datetime64[ns, UTC](1), float64(2)\n",
      "memory usage: 47.9+ KB\n"
     ]
    }
   ],
   "source": [
    "_new_data_df = _data_df.append(_data_df_2)\n",
    "_new_data_df.info()"
   ],
   "metadata": {
    "collapsed": false,
    "pycharm": {
     "name": "#%%\n"
    }
   }
  },
  {
   "cell_type": "markdown",
   "source": [
    "**Sorted coins by fluctuation**"
   ],
   "metadata": {
    "collapsed": false,
    "pycharm": {
     "name": "#%% md\n"
    }
   }
  },
  {
   "cell_type": "code",
   "execution_count": 9,
   "outputs": [
    {
     "name": "stdout",
     "output_type": "stream",
     "text": [
      "<class 'pandas.core.frame.DataFrame'>\n",
      "Index: 136 entries, ORS to EOSDT\n",
      "Data columns (total 2 columns):\n",
      " #   Column      Non-Null Count  Dtype  \n",
      "---  ------      --------------  -----  \n",
      " 0   close_std   136 non-null    float64\n",
      " 1   volume_sum  136 non-null    float64\n",
      "dtypes: float64(2)\n",
      "memory usage: 3.2+ KB\n"
     ]
    }
   ],
   "source": [
    "\"\"\"\n",
    "get_sorted_fluctuation_coins(\n",
    "    start_from (str, int): the timestamp or datestring of the first day\n",
    "    end_before (str, int): the timestamp or datestring of the last day\n",
    "    data_dir   (str):   the path if directory which has .csv files\n",
    "    normalize_price (bool): use MinMaxScaler() to normalize the close price if True\n",
    "    incl_coins (list, None): only return the coins in this provided list; None to return all coins\n",
    "    return_details (bool): return the standard deviations in a DataFrame if True; False to only return a list with coin codes\n",
    "    [DEPRECATED] start_from_timestamp (int): the timestamp of the first day\n",
    "    [DEPRECATED] end_before_timestamp (int): the timestamp of the last day\n",
    ")\n",
    "\"\"\"\n",
    "\n",
    "fluc_df = get_sorted_fluctuation_coins(\n",
    "    start_from=\"2021-04-14\",\n",
    "    end_before=\"2021-06-15\",\n",
    "    data_dir='../data/1D',\n",
    "    # incl_coins=ONLY_WANT_THESE_COINS,\n",
    "    normalize_price=True,\n",
    "    return_details=True,\n",
    "    interval='1D'\n",
    ")\n",
    "fluc_df.info()"
   ],
   "metadata": {
    "collapsed": false,
    "pycharm": {
     "name": "#%%\n"
    }
   }
  },
  {
   "cell_type": "code",
   "execution_count": 10,
   "outputs": [
    {
     "data": {
      "text/plain": "      close_std    volume_sum\ncoin                         \nORS    0.353142  6.775591e+08\nLUNA   0.352348  1.337474e+09\nSAN    0.345045  1.630334e+09\nQTF    0.344317  4.344900e+06\nICE    0.340424  4.391032e+07",
      "text/html": "<div>\n<style scoped>\n    .dataframe tbody tr th:only-of-type {\n        vertical-align: middle;\n    }\n\n    .dataframe tbody tr th {\n        vertical-align: top;\n    }\n\n    .dataframe thead th {\n        text-align: right;\n    }\n</style>\n<table border=\"1\" class=\"dataframe\">\n  <thead>\n    <tr style=\"text-align: right;\">\n      <th></th>\n      <th>close_std</th>\n      <th>volume_sum</th>\n    </tr>\n    <tr>\n      <th>coin</th>\n      <th></th>\n      <th></th>\n    </tr>\n  </thead>\n  <tbody>\n    <tr>\n      <th>ORS</th>\n      <td>0.353142</td>\n      <td>6.775591e+08</td>\n    </tr>\n    <tr>\n      <th>LUNA</th>\n      <td>0.352348</td>\n      <td>1.337474e+09</td>\n    </tr>\n    <tr>\n      <th>SAN</th>\n      <td>0.345045</td>\n      <td>1.630334e+09</td>\n    </tr>\n    <tr>\n      <th>QTF</th>\n      <td>0.344317</td>\n      <td>4.344900e+06</td>\n    </tr>\n    <tr>\n      <th>ICE</th>\n      <td>0.340424</td>\n      <td>4.391032e+07</td>\n    </tr>\n  </tbody>\n</table>\n</div>"
     },
     "execution_count": 10,
     "metadata": {},
     "output_type": "execute_result"
    }
   ],
   "source": [
    "fluc_df.head()"
   ],
   "metadata": {
    "collapsed": false,
    "pycharm": {
     "name": "#%%\n"
    }
   }
  },
  {
   "cell_type": "code",
   "execution_count": 11,
   "outputs": [
    {
     "data": {
      "text/plain": "       close_std    volume_sum\ncoin                          \nUDC     0.171852  2.591656e+10\nEUS     0.168937  1.929136e+08\nTSD     0.154663  5.067185e+08\nEUT     0.153312  9.153654e+07\nEOSDT   0.127864  1.214146e+06",
      "text/html": "<div>\n<style scoped>\n    .dataframe tbody tr th:only-of-type {\n        vertical-align: middle;\n    }\n\n    .dataframe tbody tr th {\n        vertical-align: top;\n    }\n\n    .dataframe thead th {\n        text-align: right;\n    }\n</style>\n<table border=\"1\" class=\"dataframe\">\n  <thead>\n    <tr style=\"text-align: right;\">\n      <th></th>\n      <th>close_std</th>\n      <th>volume_sum</th>\n    </tr>\n    <tr>\n      <th>coin</th>\n      <th></th>\n      <th></th>\n    </tr>\n  </thead>\n  <tbody>\n    <tr>\n      <th>UDC</th>\n      <td>0.171852</td>\n      <td>2.591656e+10</td>\n    </tr>\n    <tr>\n      <th>EUS</th>\n      <td>0.168937</td>\n      <td>1.929136e+08</td>\n    </tr>\n    <tr>\n      <th>TSD</th>\n      <td>0.154663</td>\n      <td>5.067185e+08</td>\n    </tr>\n    <tr>\n      <th>EUT</th>\n      <td>0.153312</td>\n      <td>9.153654e+07</td>\n    </tr>\n    <tr>\n      <th>EOSDT</th>\n      <td>0.127864</td>\n      <td>1.214146e+06</td>\n    </tr>\n  </tbody>\n</table>\n</div>"
     },
     "execution_count": 11,
     "metadata": {},
     "output_type": "execute_result"
    }
   ],
   "source": [
    "fluc_df.tail()"
   ],
   "metadata": {
    "collapsed": false,
    "pycharm": {
     "name": "#%%\n"
    }
   }
  },
  {
   "cell_type": "code",
   "execution_count": 15,
   "outputs": [
    {
     "name": "stdout",
     "output_type": "stream",
     "text": [
      "<class 'pandas.core.frame.DataFrame'>\n",
      "Index: 136 entries, DOG to YGG\n",
      "Data columns (total 2 columns):\n",
      " #   Column      Non-Null Count  Dtype  \n",
      "---  ------      --------------  -----  \n",
      " 0   close_std   136 non-null    float64\n",
      " 1   volume_sum  136 non-null    float64\n",
      "dtypes: float64(2)\n",
      "memory usage: 3.2+ KB\n"
     ]
    }
   ],
   "source": [
    "fluc_df = get_sorted_fluctuation_coins(\n",
    "    start_from=\"2021-04-14\",\n",
    "    end_before=\"2021-06-15\",\n",
    "    data_dir='../data/1D',\n",
    "    # incl_coins=ONLY_WANT_THESE_COINS,\n",
    "    normalize_price=False,\n",
    "    return_details=True,\n",
    "    interval='1D'\n",
    ")\n",
    "fluc_df.info()"
   ],
   "metadata": {
    "collapsed": false,
    "pycharm": {
     "name": "#%%\n"
    }
   }
  },
  {
   "cell_type": "code",
   "execution_count": 16,
   "outputs": [
    {
     "data": {
      "text/plain": "          close_std     volume_sum\ncoin                              \nDOG   110046.581555     334.336560\nYFI    10151.399072    4253.657610\nBTC     9443.343583  735776.442452\nWBT     9383.947860      11.386429\nRBT     9313.638109      13.894120",
      "text/html": "<div>\n<style scoped>\n    .dataframe tbody tr th:only-of-type {\n        vertical-align: middle;\n    }\n\n    .dataframe tbody tr th {\n        vertical-align: top;\n    }\n\n    .dataframe thead th {\n        text-align: right;\n    }\n</style>\n<table border=\"1\" class=\"dataframe\">\n  <thead>\n    <tr style=\"text-align: right;\">\n      <th></th>\n      <th>close_std</th>\n      <th>volume_sum</th>\n    </tr>\n    <tr>\n      <th>coin</th>\n      <th></th>\n      <th></th>\n    </tr>\n  </thead>\n  <tbody>\n    <tr>\n      <th>DOG</th>\n      <td>110046.581555</td>\n      <td>334.336560</td>\n    </tr>\n    <tr>\n      <th>YFI</th>\n      <td>10151.399072</td>\n      <td>4253.657610</td>\n    </tr>\n    <tr>\n      <th>BTC</th>\n      <td>9443.343583</td>\n      <td>735776.442452</td>\n    </tr>\n    <tr>\n      <th>WBT</th>\n      <td>9383.947860</td>\n      <td>11.386429</td>\n    </tr>\n    <tr>\n      <th>RBT</th>\n      <td>9313.638109</td>\n      <td>13.894120</td>\n    </tr>\n  </tbody>\n</table>\n</div>"
     },
     "execution_count": 16,
     "metadata": {},
     "output_type": "execute_result"
    }
   ],
   "source": [
    "fluc_df.head()"
   ],
   "metadata": {
    "collapsed": false,
    "pycharm": {
     "name": "#%%\n"
    }
   }
  },
  {
   "cell_type": "code",
   "execution_count": 17,
   "outputs": [
    {
     "data": {
      "text/plain": "      close_std    volume_sum\ncoin                         \nDAI    0.001095  3.376238e+07\nPAX    0.000927  3.426721e+07\nUST    0.000914  9.166260e+09\nUDC    0.000693  4.113740e+08\nYGG    0.000294  5.663083e+09",
      "text/html": "<div>\n<style scoped>\n    .dataframe tbody tr th:only-of-type {\n        vertical-align: middle;\n    }\n\n    .dataframe tbody tr th {\n        vertical-align: top;\n    }\n\n    .dataframe thead th {\n        text-align: right;\n    }\n</style>\n<table border=\"1\" class=\"dataframe\">\n  <thead>\n    <tr style=\"text-align: right;\">\n      <th></th>\n      <th>close_std</th>\n      <th>volume_sum</th>\n    </tr>\n    <tr>\n      <th>coin</th>\n      <th></th>\n      <th></th>\n    </tr>\n  </thead>\n  <tbody>\n    <tr>\n      <th>DAI</th>\n      <td>0.001095</td>\n      <td>3.376238e+07</td>\n    </tr>\n    <tr>\n      <th>PAX</th>\n      <td>0.000927</td>\n      <td>3.426721e+07</td>\n    </tr>\n    <tr>\n      <th>UST</th>\n      <td>0.000914</td>\n      <td>9.166260e+09</td>\n    </tr>\n    <tr>\n      <th>UDC</th>\n      <td>0.000693</td>\n      <td>4.113740e+08</td>\n    </tr>\n    <tr>\n      <th>YGG</th>\n      <td>0.000294</td>\n      <td>5.663083e+09</td>\n    </tr>\n  </tbody>\n</table>\n</div>"
     },
     "execution_count": 17,
     "metadata": {},
     "output_type": "execute_result"
    }
   ],
   "source": [
    "fluc_df.tail()"
   ],
   "metadata": {
    "collapsed": false,
    "pycharm": {
     "name": "#%%\n"
    }
   }
  },
  {
   "cell_type": "code",
   "execution_count": null,
   "outputs": [],
   "source": [],
   "metadata": {
    "collapsed": false,
    "pycharm": {
     "name": "#%%\n"
    }
   }
  }
 ],
 "metadata": {
  "kernelspec": {
   "name": "network_science",
   "language": "python",
   "display_name": "network_science"
  },
  "language_info": {
   "codemirror_mode": {
    "name": "ipython",
    "version": 3
   },
   "file_extension": ".py",
   "mimetype": "text/x-python",
   "name": "python",
   "nbconvert_exporter": "python",
   "pygments_lexer": "ipython3",
   "version": "3.8.12"
  }
 },
 "nbformat": 4,
 "nbformat_minor": 5
}