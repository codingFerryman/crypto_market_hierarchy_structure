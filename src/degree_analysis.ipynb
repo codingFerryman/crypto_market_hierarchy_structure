{
  "nbformat": 4,
  "nbformat_minor": 0,
  "metadata": {
    "colab": {
      "name": "degree_analysis.ipynb",
      "provenance": [],
      "machine_shape": "hm",
      "toc_visible": true,
      "authorship_tag": "ABX9TyMNC6HbGD1Oy2sfOPHP6cQK"
    },
    "kernelspec": {
      "name": "python3",
      "display_name": "Python 3"
    },
    "language_info": {
      "name": "python"
    }
  },
  "cells": [
    {
      "cell_type": "markdown",
      "source": [
        "# Initial Set-up"
      ],
      "metadata": {
        "id": "yK4fzCejgsTr"
      }
    },
    {
      "cell_type": "code",
      "source": [
        "!pip install planarity\n",
        "import networkx as nx\n",
        "import planarity"
      ],
      "metadata": {
        "colab": {
          "base_uri": "https://localhost:8080/"
        },
        "id": "ywHRMvx6Mb9T",
        "outputId": "d8b0073b-e204-4aed-ef4a-4d4cb75cc266"
      },
      "execution_count": 1,
      "outputs": [
        {
          "output_type": "stream",
          "name": "stdout",
          "text": [
            "Collecting planarity\n",
            "  Downloading planarity-0.4.1.zip (193 kB)\n",
            "\u001b[?25l\r\u001b[K     |█▊                              | 10 kB 19.8 MB/s eta 0:00:01\r\u001b[K     |███▍                            | 20 kB 11.3 MB/s eta 0:00:01\r\u001b[K     |█████                           | 30 kB 8.7 MB/s eta 0:00:01\r\u001b[K     |██████▉                         | 40 kB 7.1 MB/s eta 0:00:01\r\u001b[K     |████████▌                       | 51 kB 4.2 MB/s eta 0:00:01\r\u001b[K     |██████████▏                     | 61 kB 4.5 MB/s eta 0:00:01\r\u001b[K     |███████████▉                    | 71 kB 4.5 MB/s eta 0:00:01\r\u001b[K     |█████████████▋                  | 81 kB 5.0 MB/s eta 0:00:01\r\u001b[K     |███████████████▎                | 92 kB 5.1 MB/s eta 0:00:01\r\u001b[K     |█████████████████               | 102 kB 4.2 MB/s eta 0:00:01\r\u001b[K     |██████████████████▋             | 112 kB 4.2 MB/s eta 0:00:01\r\u001b[K     |████████████████████▍           | 122 kB 4.2 MB/s eta 0:00:01\r\u001b[K     |██████████████████████          | 133 kB 4.2 MB/s eta 0:00:01\r\u001b[K     |███████████████████████▊        | 143 kB 4.2 MB/s eta 0:00:01\r\u001b[K     |█████████████████████████▍      | 153 kB 4.2 MB/s eta 0:00:01\r\u001b[K     |███████████████████████████▏    | 163 kB 4.2 MB/s eta 0:00:01\r\u001b[K     |████████████████████████████▉   | 174 kB 4.2 MB/s eta 0:00:01\r\u001b[K     |██████████████████████████████▌ | 184 kB 4.2 MB/s eta 0:00:01\r\u001b[K     |████████████████████████████████| 193 kB 4.2 MB/s \n",
            "\u001b[?25hRequirement already satisfied: setuptools in /usr/local/lib/python3.7/dist-packages (from planarity) (57.4.0)\n",
            "Requirement already satisfied: cython in /usr/local/lib/python3.7/dist-packages (from planarity) (0.29.24)\n",
            "Building wheels for collected packages: planarity\n",
            "  Building wheel for planarity (setup.py) ... \u001b[?25l\u001b[?25hdone\n",
            "  Created wheel for planarity: filename=planarity-0.4.1-cp37-cp37m-linux_x86_64.whl size=288553 sha256=44932eefd6ca6943ac273458eca60641766d4a0cb59787127cd04fadad97963c\n",
            "  Stored in directory: /root/.cache/pip/wheels/ae/19/92/2d33078fe3b703cf34dcf6a670652c1d6a58c0a2ebf2b3a68d\n",
            "Successfully built planarity\n",
            "Installing collected packages: planarity\n",
            "Successfully installed planarity-0.4.1\n"
          ]
        }
      ]
    },
    {
      "cell_type": "code",
      "source": [
        "import numpy as np\n",
        "import math\n",
        "import pandas as pd\n",
        "import matplotlib.pyplot as plt\n",
        "import time"
      ],
      "metadata": {
        "id": "y09Cy8Fo4tp9"
      },
      "execution_count": 2,
      "outputs": []
    },
    {
      "cell_type": "code",
      "source": [
        "from google.colab import drive\n",
        "drive.mount('/content/gdrive')"
      ],
      "metadata": {
        "colab": {
          "base_uri": "https://localhost:8080/"
        },
        "id": "d4BdLm0cKSVK",
        "outputId": "7e2b76eb-ea64-4363-9de1-d1d92568d723"
      },
      "execution_count": 3,
      "outputs": [
        {
          "output_type": "stream",
          "name": "stdout",
          "text": [
            "Mounted at /content/gdrive\n"
          ]
        }
      ]
    },
    {
      "cell_type": "markdown",
      "source": [
        "# Functions Needed"
      ],
      "metadata": {
        "id": "S_cjf_Mgg1oY"
      }
    },
    {
      "cell_type": "code",
      "execution_count": 127,
      "metadata": {
        "id": "JPFYXSIgK8SH"
      },
      "outputs": [],
      "source": [
        "# Correlation matrix and nodes' namelist as input, graph as output\n",
        "# MST Minimum Spanning Tree\n",
        "def MST(corr_mat, namelist, draw = False):\n",
        "  # corr_mat is the correlation matrix as np.array format\n",
        "  attributes = {}\n",
        "  for i in range(len(namelist)):\n",
        "      attributes[i] = namelist[i]\n",
        "\n",
        "  dist_mx = np.sqrt(2*(1-corr_mat))\n",
        "\n",
        "  G = nx.from_numpy_matrix(dist_mx)\n",
        "  MST = nx.minimum_spanning_tree(G,weight='weight')\n",
        "  nx.set_node_attributes(MST, attributes, name='coin_name')\n",
        "  # MST is the output minimum spanning tree graph\n",
        "  if draw == True:\n",
        "    nx.draw_networkx(MST, pos=None, arrows=None, with_labels=True)\n",
        "  return MST\n",
        "\n",
        "\n",
        "# PMFG Planar Maximally Filtered Graph\n",
        "def PMFG(corr_mat, namelist, draw = False):\n",
        "  attributes = {}\n",
        "  for i in range(len(namelist)):\n",
        "      attributes[i] = namelist[i]\n",
        "\n",
        "  dist_mx = np.sqrt(2*(1-corr_mat))\n",
        "  G = nx.from_numpy_matrix(dist_mx)\n",
        "\n",
        "  def sort_graph_edges(G):\n",
        "    sorted_edges = []\n",
        "    for source, dest, data in sorted(G.edges(data=True), key=lambda x: x[2]['weight'], reverse = True): \n",
        "        sorted_edges.append({'source': source,\n",
        "                             'dest': dest,\n",
        "                             'weight': data['weight']})\n",
        "    return sorted_edges # a list of dict\n",
        "\n",
        "  PMFG = nx.Graph()\n",
        "  ne_total = G.number_of_edges()\n",
        "  nb_nodes = len(G.nodes)\n",
        "  ne_pmfg = 3*(nb_nodes-2)\n",
        "  sorted_edges = sort_graph_edges(G)\n",
        "  t0 = time.time()\n",
        "  for i, edge in enumerate(sorted_edges):\n",
        "      PMFG.add_edge(edge['source'], edge['dest'], weight = edge['weight'])\n",
        "      if not planarity.is_planar(PMFG):\n",
        "          PMFG.remove_edge(edge['source'], edge['dest'])\n",
        "      ne = PMFG.number_of_edges()\n",
        "      # print(\"Generating PMFG... added edges in PMFG %d/%d (%.2f%%) lookup edges in G %d/%d (%.2f%%) Elapsed TIme %.2f [sec]\"\\\n",
        "      #    %(ne, ne_pmfg, (ne/ne_pmfg)*100, i, ne_total, (i+1/ne_total)*100, time.time()-t0), end=\"\\r\")\n",
        "      if ne == ne_pmfg:\n",
        "          break\n",
        "  nx.set_node_attributes(PMFG, attributes, name='coin_name')\n",
        "  if draw == True:\n",
        "    nx.draw_networkx(PMFG, pos=None, arrows=None, with_labels=True)\n",
        "  return PMFG\n",
        "  "
      ]
    },
    {
      "cell_type": "code",
      "source": [
        "import datetime\n",
        "\n",
        "def datetime_generator(start,end,interval=1):\n",
        "  # start,end are date as string format, like '12-04-2021'\n",
        "  start = datetime.datetime.strptime(start, \"%d-%m-%Y\")\n",
        "  end = datetime.datetime.strptime(end, \"%d-%m-%Y\")\n",
        "  date_generated = [start + datetime.timedelta(days=x) for x in range(0, (end-start).days,interval)]\n",
        "  datelist = []\n",
        "  for date in date_generated:\n",
        "    datelist.append(date.strftime(\"%d-%m-%Y\"))\n",
        "  return datelist"
      ],
      "metadata": {
        "id": "gUAslhd4xSmX"
      },
      "execution_count": 128,
      "outputs": []
    },
    {
      "cell_type": "code",
      "source": [
        "def compute_MST_all(Corr_mat,timelist,namelist_all):\n",
        "  # Input:Corr_mat is the list of corr numpy.ndarrary\n",
        "  # timelist is the list of time\n",
        "  # namelist_all is the list of namelist from .json file\n",
        "  MST_dict = {}\n",
        "  for i in range(len(Corr_mat)):\n",
        "    MST_dict[timelist[i]] = MST(Corr_mat[i], namelist_all[i])\n",
        "  return MST_dict\n",
        "  #return a dictionary of MST, with keys of date, values of graph"
      ],
      "metadata": {
        "id": "p2RmKtBBVI5c"
      },
      "execution_count": 129,
      "outputs": []
    },
    {
      "cell_type": "code",
      "source": [
        "import collections\n",
        "\n",
        "def sort_NodesDegree(MST_dict,namelist_all):\n",
        "  # compute the nodes with max average degree\n",
        "  degree_dict_list = []\n",
        "  i_g = 0\n",
        "  for g in MST_dict.values():\n",
        "    degree_dict = {}\n",
        "    for n in g.nodes():\n",
        "      degree_dict[namelist_all[i_g][n]] = g.degree(n)\n",
        "    degree_dict_list.append(degree_dict)\n",
        "    i_g += 1\n",
        "    # got a list of dict, with keys of coin names and values of number of degree \n",
        "  counter = collections.Counter()\n",
        "  for d in degree_dict_list: \n",
        "    counter.update(d)\n",
        "  result = dict(counter)\n",
        "  sortdict = dict(sorted(result.items(), key=lambda x:x[1],reverse=True))\n",
        "  return sortdict\n",
        "  # Got the order of nodes with the most degree in MST"
      ],
      "metadata": {
        "id": "8nXtVLPW-8rJ"
      },
      "execution_count": 87,
      "outputs": []
    },
    {
      "cell_type": "code",
      "source": [
        "def time_degree(G_dict,coin,namelist_all):\n",
        "  time_degree = {}\n",
        "  i = 0\n",
        "  for g in G_dict.values(): \n",
        "    time_degree[list(G_dict.keys())[i]] = g.degree(namelist_all[i].index(coin))\n",
        "    i += 1\n",
        "  return time_degree"
      ],
      "metadata": {
        "id": "evIFhNCB-8uF"
      },
      "execution_count": 84,
      "outputs": []
    },
    {
      "cell_type": "markdown",
      "source": [
        "# Load Data"
      ],
      "metadata": {
        "id": "UJBDs5g8mRDR"
      }
    },
    {
      "cell_type": "code",
      "source": [
        "# Load correlation matrix\n",
        "Corr_d_04 = np.load('/content/gdrive/MyDrive/Network_Science/Project/cm_data/0412_0615_1d_30m.npy',allow_pickle=True)\n",
        "Corr_w_04 = np.load('/content/gdrive/MyDrive/Network_Science/Project/cm_data/0412_0615_1W_3h.npy',allow_pickle=True)\n",
        "Corr_d_08 = np.load('/content/gdrive/MyDrive/Network_Science/Project/cm_data/0816_1018_1d_30m.npy',allow_pickle=True)\n",
        "Corr_w_08 = np.load('/content/gdrive/MyDrive/Network_Science/Project/cm_data/0816_1018_1W_3h.npy',allow_pickle=True)"
      ],
      "metadata": {
        "id": "YMj91BzziOZs"
      },
      "execution_count": 130,
      "outputs": []
    },
    {
      "cell_type": "code",
      "source": [
        "# Load namelist.json\n",
        "import json\n",
        "import io\n",
        "from google.colab import files\n",
        "uploaded = files.upload()"
      ],
      "metadata": {
        "id": "sMS5YC9ujKCf"
      },
      "execution_count": null,
      "outputs": []
    },
    {
      "cell_type": "code",
      "source": [
        "import json\n",
        "import io\n",
        "from google.colab import files\n",
        "uploaded = files.upload()"
      ],
      "metadata": {
        "colab": {
          "resources": {
            "http://localhost:8080/nbextensions/google.colab/files.js": {
              "data": "Ly8gQ29weXJpZ2h0IDIwMTcgR29vZ2xlIExMQwovLwovLyBMaWNlbnNlZCB1bmRlciB0aGUgQXBhY2hlIExpY2Vuc2UsIFZlcnNpb24gMi4wICh0aGUgIkxpY2Vuc2UiKTsKLy8geW91IG1heSBub3QgdXNlIHRoaXMgZmlsZSBleGNlcHQgaW4gY29tcGxpYW5jZSB3aXRoIHRoZSBMaWNlbnNlLgovLyBZb3UgbWF5IG9idGFpbiBhIGNvcHkgb2YgdGhlIExpY2Vuc2UgYXQKLy8KLy8gICAgICBodHRwOi8vd3d3LmFwYWNoZS5vcmcvbGljZW5zZXMvTElDRU5TRS0yLjAKLy8KLy8gVW5sZXNzIHJlcXVpcmVkIGJ5IGFwcGxpY2FibGUgbGF3IG9yIGFncmVlZCB0byBpbiB3cml0aW5nLCBzb2Z0d2FyZQovLyBkaXN0cmlidXRlZCB1bmRlciB0aGUgTGljZW5zZSBpcyBkaXN0cmlidXRlZCBvbiBhbiAiQVMgSVMiIEJBU0lTLAovLyBXSVRIT1VUIFdBUlJBTlRJRVMgT1IgQ09ORElUSU9OUyBPRiBBTlkgS0lORCwgZWl0aGVyIGV4cHJlc3Mgb3IgaW1wbGllZC4KLy8gU2VlIHRoZSBMaWNlbnNlIGZvciB0aGUgc3BlY2lmaWMgbGFuZ3VhZ2UgZ292ZXJuaW5nIHBlcm1pc3Npb25zIGFuZAovLyBsaW1pdGF0aW9ucyB1bmRlciB0aGUgTGljZW5zZS4KCi8qKgogKiBAZmlsZW92ZXJ2aWV3IEhlbHBlcnMgZm9yIGdvb2dsZS5jb2xhYiBQeXRob24gbW9kdWxlLgogKi8KKGZ1bmN0aW9uKHNjb3BlKSB7CmZ1bmN0aW9uIHNwYW4odGV4dCwgc3R5bGVBdHRyaWJ1dGVzID0ge30pIHsKICBjb25zdCBlbGVtZW50ID0gZG9jdW1lbnQuY3JlYXRlRWxlbWVudCgnc3BhbicpOwogIGVsZW1lbnQudGV4dENvbnRlbnQgPSB0ZXh0OwogIGZvciAoY29uc3Qga2V5IG9mIE9iamVjdC5rZXlzKHN0eWxlQXR0cmlidXRlcykpIHsKICAgIGVsZW1lbnQuc3R5bGVba2V5XSA9IHN0eWxlQXR0cmlidXRlc1trZXldOwogIH0KICByZXR1cm4gZWxlbWVudDsKfQoKLy8gTWF4IG51bWJlciBvZiBieXRlcyB3aGljaCB3aWxsIGJlIHVwbG9hZGVkIGF0IGEgdGltZS4KY29uc3QgTUFYX1BBWUxPQURfU0laRSA9IDEwMCAqIDEwMjQ7CgpmdW5jdGlvbiBfdXBsb2FkRmlsZXMoaW5wdXRJZCwgb3V0cHV0SWQpIHsKICBjb25zdCBzdGVwcyA9IHVwbG9hZEZpbGVzU3RlcChpbnB1dElkLCBvdXRwdXRJZCk7CiAgY29uc3Qgb3V0cHV0RWxlbWVudCA9IGRvY3VtZW50LmdldEVsZW1lbnRCeUlkKG91dHB1dElkKTsKICAvLyBDYWNoZSBzdGVwcyBvbiB0aGUgb3V0cHV0RWxlbWVudCB0byBtYWtlIGl0IGF2YWlsYWJsZSBmb3IgdGhlIG5leHQgY2FsbAogIC8vIHRvIHVwbG9hZEZpbGVzQ29udGludWUgZnJvbSBQeXRob24uCiAgb3V0cHV0RWxlbWVudC5zdGVwcyA9IHN0ZXBzOwoKICByZXR1cm4gX3VwbG9hZEZpbGVzQ29udGludWUob3V0cHV0SWQpOwp9CgovLyBUaGlzIGlzIHJvdWdobHkgYW4gYXN5bmMgZ2VuZXJhdG9yIChub3Qgc3VwcG9ydGVkIGluIHRoZSBicm93c2VyIHlldCksCi8vIHdoZXJlIHRoZXJlIGFyZSBtdWx0aXBsZSBhc3luY2hyb25vdXMgc3RlcHMgYW5kIHRoZSBQeXRob24gc2lkZSBpcyBnb2luZwovLyB0byBwb2xsIGZvciBjb21wbGV0aW9uIG9mIGVhY2ggc3RlcC4KLy8gVGhpcyB1c2VzIGEgUHJvbWlzZSB0byBibG9jayB0aGUgcHl0aG9uIHNpZGUgb24gY29tcGxldGlvbiBvZiBlYWNoIHN0ZXAsCi8vIHRoZW4gcGFzc2VzIHRoZSByZXN1bHQgb2YgdGhlIHByZXZpb3VzIHN0ZXAgYXMgdGhlIGlucHV0IHRvIHRoZSBuZXh0IHN0ZXAuCmZ1bmN0aW9uIF91cGxvYWRGaWxlc0NvbnRpbnVlKG91dHB1dElkKSB7CiAgY29uc3Qgb3V0cHV0RWxlbWVudCA9IGRvY3VtZW50LmdldEVsZW1lbnRCeUlkKG91dHB1dElkKTsKICBjb25zdCBzdGVwcyA9IG91dHB1dEVsZW1lbnQuc3RlcHM7CgogIGNvbnN0IG5leHQgPSBzdGVwcy5uZXh0KG91dHB1dEVsZW1lbnQubGFzdFByb21pc2VWYWx1ZSk7CiAgcmV0dXJuIFByb21pc2UucmVzb2x2ZShuZXh0LnZhbHVlLnByb21pc2UpLnRoZW4oKHZhbHVlKSA9PiB7CiAgICAvLyBDYWNoZSB0aGUgbGFzdCBwcm9taXNlIHZhbHVlIHRvIG1ha2UgaXQgYXZhaWxhYmxlIHRvIHRoZSBuZXh0CiAgICAvLyBzdGVwIG9mIHRoZSBnZW5lcmF0b3IuCiAgICBvdXRwdXRFbGVtZW50Lmxhc3RQcm9taXNlVmFsdWUgPSB2YWx1ZTsKICAgIHJldHVybiBuZXh0LnZhbHVlLnJlc3BvbnNlOwogIH0pOwp9CgovKioKICogR2VuZXJhdG9yIGZ1bmN0aW9uIHdoaWNoIGlzIGNhbGxlZCBiZXR3ZWVuIGVhY2ggYXN5bmMgc3RlcCBvZiB0aGUgdXBsb2FkCiAqIHByb2Nlc3MuCiAqIEBwYXJhbSB7c3RyaW5nfSBpbnB1dElkIEVsZW1lbnQgSUQgb2YgdGhlIGlucHV0IGZpbGUgcGlja2VyIGVsZW1lbnQuCiAqIEBwYXJhbSB7c3RyaW5nfSBvdXRwdXRJZCBFbGVtZW50IElEIG9mIHRoZSBvdXRwdXQgZGlzcGxheS4KICogQHJldHVybiB7IUl0ZXJhYmxlPCFPYmplY3Q+fSBJdGVyYWJsZSBvZiBuZXh0IHN0ZXBzLgogKi8KZnVuY3Rpb24qIHVwbG9hZEZpbGVzU3RlcChpbnB1dElkLCBvdXRwdXRJZCkgewogIGNvbnN0IGlucHV0RWxlbWVudCA9IGRvY3VtZW50LmdldEVsZW1lbnRCeUlkKGlucHV0SWQpOwogIGlucHV0RWxlbWVudC5kaXNhYmxlZCA9IGZhbHNlOwoKICBjb25zdCBvdXRwdXRFbGVtZW50ID0gZG9jdW1lbnQuZ2V0RWxlbWVudEJ5SWQob3V0cHV0SWQpOwogIG91dHB1dEVsZW1lbnQuaW5uZXJIVE1MID0gJyc7CgogIGNvbnN0IHBpY2tlZFByb21pc2UgPSBuZXcgUHJvbWlzZSgocmVzb2x2ZSkgPT4gewogICAgaW5wdXRFbGVtZW50LmFkZEV2ZW50TGlzdGVuZXIoJ2NoYW5nZScsIChlKSA9PiB7CiAgICAgIHJlc29sdmUoZS50YXJnZXQuZmlsZXMpOwogICAgfSk7CiAgfSk7CgogIGNvbnN0IGNhbmNlbCA9IGRvY3VtZW50LmNyZWF0ZUVsZW1lbnQoJ2J1dHRvbicpOwogIGlucHV0RWxlbWVudC5wYXJlbnRFbGVtZW50LmFwcGVuZENoaWxkKGNhbmNlbCk7CiAgY2FuY2VsLnRleHRDb250ZW50ID0gJ0NhbmNlbCB1cGxvYWQnOwogIGNvbnN0IGNhbmNlbFByb21pc2UgPSBuZXcgUHJvbWlzZSgocmVzb2x2ZSkgPT4gewogICAgY2FuY2VsLm9uY2xpY2sgPSAoKSA9PiB7CiAgICAgIHJlc29sdmUobnVsbCk7CiAgICB9OwogIH0pOwoKICAvLyBXYWl0IGZvciB0aGUgdXNlciB0byBwaWNrIHRoZSBmaWxlcy4KICBjb25zdCBmaWxlcyA9IHlpZWxkIHsKICAgIHByb21pc2U6IFByb21pc2UucmFjZShbcGlja2VkUHJvbWlzZSwgY2FuY2VsUHJvbWlzZV0pLAogICAgcmVzcG9uc2U6IHsKICAgICAgYWN0aW9uOiAnc3RhcnRpbmcnLAogICAgfQogIH07CgogIGNhbmNlbC5yZW1vdmUoKTsKCiAgLy8gRGlzYWJsZSB0aGUgaW5wdXQgZWxlbWVudCBzaW5jZSBmdXJ0aGVyIHBpY2tzIGFyZSBub3QgYWxsb3dlZC4KICBpbnB1dEVsZW1lbnQuZGlzYWJsZWQgPSB0cnVlOwoKICBpZiAoIWZpbGVzKSB7CiAgICByZXR1cm4gewogICAgICByZXNwb25zZTogewogICAgICAgIGFjdGlvbjogJ2NvbXBsZXRlJywKICAgICAgfQogICAgfTsKICB9CgogIGZvciAoY29uc3QgZmlsZSBvZiBmaWxlcykgewogICAgY29uc3QgbGkgPSBkb2N1bWVudC5jcmVhdGVFbGVtZW50KCdsaScpOwogICAgbGkuYXBwZW5kKHNwYW4oZmlsZS5uYW1lLCB7Zm9udFdlaWdodDogJ2JvbGQnfSkpOwogICAgbGkuYXBwZW5kKHNwYW4oCiAgICAgICAgYCgke2ZpbGUudHlwZSB8fCAnbi9hJ30pIC0gJHtmaWxlLnNpemV9IGJ5dGVzLCBgICsKICAgICAgICBgbGFzdCBtb2RpZmllZDogJHsKICAgICAgICAgICAgZmlsZS5sYXN0TW9kaWZpZWREYXRlID8gZmlsZS5sYXN0TW9kaWZpZWREYXRlLnRvTG9jYWxlRGF0ZVN0cmluZygpIDoKICAgICAgICAgICAgICAgICAgICAgICAgICAgICAgICAgICAgJ24vYSd9IC0gYCkpOwogICAgY29uc3QgcGVyY2VudCA9IHNwYW4oJzAlIGRvbmUnKTsKICAgIGxpLmFwcGVuZENoaWxkKHBlcmNlbnQpOwoKICAgIG91dHB1dEVsZW1lbnQuYXBwZW5kQ2hpbGQobGkpOwoKICAgIGNvbnN0IGZpbGVEYXRhUHJvbWlzZSA9IG5ldyBQcm9taXNlKChyZXNvbHZlKSA9PiB7CiAgICAgIGNvbnN0IHJlYWRlciA9IG5ldyBGaWxlUmVhZGVyKCk7CiAgICAgIHJlYWRlci5vbmxvYWQgPSAoZSkgPT4gewogICAgICAgIHJlc29sdmUoZS50YXJnZXQucmVzdWx0KTsKICAgICAgfTsKICAgICAgcmVhZGVyLnJlYWRBc0FycmF5QnVmZmVyKGZpbGUpOwogICAgfSk7CiAgICAvLyBXYWl0IGZvciB0aGUgZGF0YSB0byBiZSByZWFkeS4KICAgIGxldCBmaWxlRGF0YSA9IHlpZWxkIHsKICAgICAgcHJvbWlzZTogZmlsZURhdGFQcm9taXNlLAogICAgICByZXNwb25zZTogewogICAgICAgIGFjdGlvbjogJ2NvbnRpbnVlJywKICAgICAgfQogICAgfTsKCiAgICAvLyBVc2UgYSBjaHVua2VkIHNlbmRpbmcgdG8gYXZvaWQgbWVzc2FnZSBzaXplIGxpbWl0cy4gU2VlIGIvNjIxMTU2NjAuCiAgICBsZXQgcG9zaXRpb24gPSAwOwogICAgZG8gewogICAgICBjb25zdCBsZW5ndGggPSBNYXRoLm1pbihmaWxlRGF0YS5ieXRlTGVuZ3RoIC0gcG9zaXRpb24sIE1BWF9QQVlMT0FEX1NJWkUpOwogICAgICBjb25zdCBjaHVuayA9IG5ldyBVaW50OEFycmF5KGZpbGVEYXRhLCBwb3NpdGlvbiwgbGVuZ3RoKTsKICAgICAgcG9zaXRpb24gKz0gbGVuZ3RoOwoKICAgICAgY29uc3QgYmFzZTY0ID0gYnRvYShTdHJpbmcuZnJvbUNoYXJDb2RlLmFwcGx5KG51bGwsIGNodW5rKSk7CiAgICAgIHlpZWxkIHsKICAgICAgICByZXNwb25zZTogewogICAgICAgICAgYWN0aW9uOiAnYXBwZW5kJywKICAgICAgICAgIGZpbGU6IGZpbGUubmFtZSwKICAgICAgICAgIGRhdGE6IGJhc2U2NCwKICAgICAgICB9LAogICAgICB9OwoKICAgICAgbGV0IHBlcmNlbnREb25lID0gZmlsZURhdGEuYnl0ZUxlbmd0aCA9PT0gMCA/CiAgICAgICAgICAxMDAgOgogICAgICAgICAgTWF0aC5yb3VuZCgocG9zaXRpb24gLyBmaWxlRGF0YS5ieXRlTGVuZ3RoKSAqIDEwMCk7CiAgICAgIHBlcmNlbnQudGV4dENvbnRlbnQgPSBgJHtwZXJjZW50RG9uZX0lIGRvbmVgOwoKICAgIH0gd2hpbGUgKHBvc2l0aW9uIDwgZmlsZURhdGEuYnl0ZUxlbmd0aCk7CiAgfQoKICAvLyBBbGwgZG9uZS4KICB5aWVsZCB7CiAgICByZXNwb25zZTogewogICAgICBhY3Rpb246ICdjb21wbGV0ZScsCiAgICB9CiAgfTsKfQoKc2NvcGUuZ29vZ2xlID0gc2NvcGUuZ29vZ2xlIHx8IHt9OwpzY29wZS5nb29nbGUuY29sYWIgPSBzY29wZS5nb29nbGUuY29sYWIgfHwge307CnNjb3BlLmdvb2dsZS5jb2xhYi5fZmlsZXMgPSB7CiAgX3VwbG9hZEZpbGVzLAogIF91cGxvYWRGaWxlc0NvbnRpbnVlLAp9Owp9KShzZWxmKTsK",
              "ok": true,
              "headers": [
                [
                  "content-type",
                  "application/javascript"
                ]
              ],
              "status": 200,
              "status_text": ""
            }
          },
          "base_uri": "https://localhost:8080/",
          "height": 73
        },
        "id": "KjY94tZk2pg1",
        "outputId": "45a4c560-13c8-4a29-8914-25b25fbf90b9"
      },
      "execution_count": 139,
      "outputs": [
        {
          "output_type": "display_data",
          "data": {
            "text/html": [
              "\n",
              "     <input type=\"file\" id=\"files-c65ab60c-141b-4dc3-98a9-f115a3b928e7\" name=\"files[]\" multiple disabled\n",
              "        style=\"border:none\" />\n",
              "     <output id=\"result-c65ab60c-141b-4dc3-98a9-f115a3b928e7\">\n",
              "      Upload widget is only available when the cell has been executed in the\n",
              "      current browser session. Please rerun this cell to enable.\n",
              "      </output>\n",
              "      <script src=\"/nbextensions/google.colab/files.js\"></script> "
            ],
            "text/plain": [
              "<IPython.core.display.HTML object>"
            ]
          },
          "metadata": {}
        },
        {
          "output_type": "stream",
          "name": "stdout",
          "text": [
            "Saving 0816_1018_1W_3h_namelist.json to 0816_1018_1W_3h_namelist.json\n"
          ]
        }
      ]
    },
    {
      "cell_type": "code",
      "source": [
        "file_name = \"0816_1018_1W_3h_namelist.json\"\n",
        "io.StringIO(uploaded[file_name].decode(\"utf-8\"))"
      ],
      "metadata": {
        "colab": {
          "base_uri": "https://localhost:8080/"
        },
        "id": "JXUYep0W5Ieg",
        "outputId": "baf8cb8a-8bbc-49e2-8a53-2789c4b0b4b2"
      },
      "execution_count": 142,
      "outputs": [
        {
          "output_type": "execute_result",
          "data": {
            "text/plain": [
              "<_io.StringIO at 0x7f0e365969b0>"
            ]
          },
          "metadata": {},
          "execution_count": 142
        }
      ]
    },
    {
      "cell_type": "code",
      "source": [
        "namelist_all_d_04 = json.loads(uploaded[file_name].decode(\"utf-8\"))"
      ],
      "metadata": {
        "id": "Zxe-iZkLltcZ"
      },
      "execution_count": 135,
      "outputs": []
    },
    {
      "cell_type": "code",
      "source": [
        "namelist_all_w_04 = json.loads(uploaded[file_name].decode(\"utf-8\"))"
      ],
      "metadata": {
        "id": "88ZzZRiZ2wdz"
      },
      "execution_count": 131,
      "outputs": []
    },
    {
      "cell_type": "code",
      "source": [
        "namelist_all_d_08 = json.loads(uploaded[file_name].decode(\"utf-8\"))"
      ],
      "metadata": {
        "id": "YpEmHrOJl0hm"
      },
      "execution_count": 138,
      "outputs": []
    },
    {
      "cell_type": "code",
      "source": [
        "namelist_all_w_08 = json.loads(uploaded[file_name].decode(\"utf-8\"))"
      ],
      "metadata": {
        "id": "emKmjoe1l_M6"
      },
      "execution_count": 143,
      "outputs": []
    },
    {
      "cell_type": "markdown",
      "source": [
        "# Analysis"
      ],
      "metadata": {
        "id": "1nsHOXBvmmRM"
      }
    },
    {
      "cell_type": "markdown",
      "source": [
        "From time period 12 Apr.- 15 Jun."
      ],
      "metadata": {
        "id": "rJFRo1armpvF"
      }
    },
    {
      "cell_type": "code",
      "source": [
        "timelist_d_04 = datetime_generator('12-04-2021','15-06-2021',1) # interval is number of days"
      ],
      "metadata": {
        "id": "0yi14No2oCau"
      },
      "execution_count": 145,
      "outputs": []
    },
    {
      "cell_type": "code",
      "source": [
        "MST_d_04 = compute_MST_all(Corr_d_04,timelist_d_04,namelist_all_d_04)"
      ],
      "metadata": {
        "id": "Quphxlq1myzT"
      },
      "execution_count": 146,
      "outputs": []
    },
    {
      "cell_type": "code",
      "source": [
        "print(sort_NodesDegree(MST_d_04,namelist_all_d_04))"
      ],
      "metadata": {
        "colab": {
          "base_uri": "https://localhost:8080/"
        },
        "id": "E_hbItRSonyL",
        "outputId": "456b204f-9f4c-4881-fe0c-c4adce52a32f"
      },
      "execution_count": 147,
      "outputs": [
        {
          "output_type": "stream",
          "name": "stdout",
          "text": [
            "{'TRX': 366, 'ETH': 336, 'NEO': 213, 'LINK': 204, 'BTC': 201, 'EOS': 195, 'XTZ': 183, 'BAL': 180, 'LTC': 179, 'SUSHI': 166, 'UNI': 158, 'JST': 157, 'AAVE': 155, 'SNX': 155, 'OMG': 154, 'ADA': 145, 'YFI': 144, 'DOT': 143, 'BAND': 140, 'XRP': 137, 'ZRX': 137, 'BCHN': 129, 'XLM': 127, 'COMP': 127, 'ETC': 123, 'AVAX': 123, 'NEAR': 114, 'KSM': 113, 'ZEC': 107, 'FET': 107, 'BSV': 107, 'FIL': 104, 'SOL': 104, 'XVG': 103, 'SUN': 99, 'EGLD': 99, 'WBT': 97, 'GTX': 97, 'CEL': 95, 'HEZ': 94, 'VET': 94, 'DGB': 93, 'XMR': 91, 'IQX': 90, 'REP': 90, 'BTSE': 90, 'MOB': 89, 'LUNA': 88, 'UOS': 87, 'LEO': 85, 'RBT': 85, 'VSY': 82, 'MLN': 82, 'XAUT': 81, 'BOSON': 80, 'XSN': 80, 'DAI': 79, 'DOGE': 74, 'GNO': 70, 'PNK': 69, 'PLU': 66, 'UOP': 66, 'ETP': 65, 'CLO': 63, 'SAN': 62, 'OXY': 62, 'XDC': 57, 'BFT': 53, 'ZCN': 48, 'XCH': 48, '1INCH': 44, 'ICE': 42, 'CTK': 37, 'BTT': 36, 'IDX': 34, 'ESS': 33, 'B21X': 32, 'DAT': 28, 'BAT': 27, 'OCEAN': 23, 'EUT': 22, 'CHZ': 14, 'KAN': 14, 'BTG': 13, 'XRA': 12, 'RRT': 12, 'GOT': 12, 'ANT': 10, 'QTM': 9, 'MKR': 8, 'ZIL': 2, 'QTF': 2, 'PAX': 1, 'BMI': 1}\n"
          ]
        }
      ]
    },
    {
      "cell_type": "code",
      "source": [
        "def plot_xy(dict):\n",
        "  x,y = zip(*dict.items())\n",
        "  plt.plot(x,y)\n",
        "  plt.xticks(rotation='vertical')\n",
        "  plt.show()"
      ],
      "metadata": {
        "id": "hnE0pFUNo1QN"
      },
      "execution_count": 150,
      "outputs": []
    },
    {
      "cell_type": "code",
      "source": [
        "plot_xy(sort_NodesDegree(MST_d_04,namelist_all_d_04))"
      ],
      "metadata": {
        "colab": {
          "base_uri": "https://localhost:8080/",
          "height": 291
        },
        "id": "-ikzq1_cp_SZ",
        "outputId": "ef29b285-f33e-4f57-ffe6-e1e234a18b36"
      },
      "execution_count": 151,
      "outputs": [
        {
          "output_type": "display_data",
          "data": {
            "image/png": "[encoded data removed]",
            "text/plain": [
              "<Figure size 432x288 with 1 Axes>"
            ]
          },
          "metadata": {
            "needs_background": "light"
          }
        }
      ]
    },
    {
      "cell_type": "code",
      "source": [
        "TRX_degree_d_04 = pd.DataFrame.from_dict(time_degree(MST_d_04,\"TRX\",namelist_all_d_04),orient='index')"
      ],
      "metadata": {
        "id": "tpX8d21Qq6tx"
      },
      "execution_count": 156,
      "outputs": []
    },
    {
      "cell_type": "code",
      "source": [
        "from statsmodels.graphics import tsaplots\n",
        "import matplotlib.pyplot as plt\n",
        "\n",
        "#plot autocorrelation function\n",
        "def plot_acf_coin(coin,MST_dict,namelist_all):\n",
        "  x = pd.DataFrame.from_dict(time_degree(MST_dict,coin,namelist_all),orient='index')\n",
        "  fig = tsaplots.plot_acf(x = x[0])\n",
        "  plt.show()"
      ],
      "metadata": {
        "id": "wSfRysrnaGSK"
      },
      "execution_count": 158,
      "outputs": []
    },
    {
      "cell_type": "code",
      "source": [
        "plot_acf_coin('TRX',MST_d_04,namelist_all_d_04)"
      ],
      "metadata": {
        "colab": {
          "base_uri": "https://localhost:8080/",
          "height": 281
        },
        "id": "0luDD4ru2AYr",
        "outputId": "f8bdc478-1a00-4923-ea16-c65bf493b6ec"
      },
      "execution_count": 161,
      "outputs": [
        {
          "output_type": "display_data",
          "data": {
            "image/png": "[encoded data removed]",
            "text/plain": [
              "<Figure size 432x288 with 1 Axes>"
            ]
          },
          "metadata": {
            "needs_background": "light"
          }
        }
      ]
    },
    {
      "cell_type": "code",
      "source": [
        "plot_acf_coin('BTC',MST_d_04,namelist_all_d_04)\n",
        "plot_acf_coin('LINK',MST_d_04,namelist_all_d_04)\n",
        "plot_acf_coin('ETH',MST_d_04,namelist_all_d_04)\n",
        "plot_acf_coin('EOS',MST_d_04,namelist_all_d_04)\n",
        "plot_acf_coin('NEO',MST_d_04,namelist_all_d_04)"
      ],
      "metadata": {
        "colab": {
          "base_uri": "https://localhost:8080/",
          "height": 1000
        },
        "id": "Rp4-liKZ2teT",
        "outputId": "f062abb1-d2a8-4579-9839-91919dd8d33f"
      },
      "execution_count": 164,
      "outputs": [
        {
          "output_type": "display_data",
          "data": {
            "image/png": "[encoded data removed]",
            "text/plain": [
              "<Figure size 432x288 with 1 Axes>"
            ]
          },
          "metadata": {
            "needs_background": "light"
          }
        },
        {
          "output_type": "display_data",
          "data": {
            "image/png": "[encoded data removed]",
            "text/plain": [
              "<Figure size 432x288 with 1 Axes>"
            ]
          },
          "metadata": {
            "needs_background": "light"
          }
        },
        {
          "output_type": "display_data",
          "data": {
            "image/png": "[encoded data removed]",
            "text/plain": [
              "<Figure size 432x288 with 1 Axes>"
            ]
          },
          "metadata": {
            "needs_background": "light"
          }
        },
        {
          "output_type": "display_data",
          "data": {
            "image/png": "[encoded data removed]",
            "text/plain": [
              "<Figure size 432x288 with 1 Axes>"
            ]
          },
          "metadata": {
            "needs_background": "light"
          }
        },
        {
          "output_type": "display_data",
          "data": {
            "image/png": "[encoded data removed]",
            "text/plain": [
              "<Figure size 432x288 with 1 Axes>"
            ]
          },
          "metadata": {
            "needs_background": "light"
          }
        }
      ]
    }
  ]
}