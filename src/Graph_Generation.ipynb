{
  "nbformat": 4,
  "nbformat_minor": 0,
  "metadata": {
    "colab": {
      "name": "Graph_Generation.ipynb",
      "provenance": [],
      "machine_shape": "hm",
      "authorship_tag": "ABX9TyMrHuYCgRab89gLh+4Z6MUy"
    },
    "kernelspec": {
      "name": "python3",
      "display_name": "Python 3"
    },
    "language_info": {
      "name": "python"
    }
  },
  "cells": [
    {
      "cell_type": "code",
      "source": [
        "!pip install planarity\n",
        "import networkx as nx\n",
        "import planarity"
      ],
      "metadata": {
        "colab": {
          "base_uri": "https://localhost:8080/"
        },
        "id": "ywHRMvx6Mb9T",
        "outputId": "ada3fb9b-b5a4-47a3-b386-3926c15ccfc6"
      },
      "execution_count": 1,
      "outputs": [
        {
          "output_type": "stream",
          "name": "stdout",
          "text": [
            "Collecting planarity\n",
            "  Downloading planarity-0.4.1.zip (193 kB)\n",
            "\u001b[K     |████████████████████████████████| 193 kB 5.1 MB/s \n",
            "\u001b[?25hRequirement already satisfied: setuptools in /usr/local/lib/python3.7/dist-packages (from planarity) (57.4.0)\n",
            "Requirement already satisfied: cython in /usr/local/lib/python3.7/dist-packages (from planarity) (0.29.24)\n",
            "Building wheels for collected packages: planarity\n",
            "  Building wheel for planarity (setup.py) ... \u001b[?25l\u001b[?25hdone\n",
            "  Created wheel for planarity: filename=planarity-0.4.1-cp37-cp37m-linux_x86_64.whl size=288863 sha256=14fd26200044ac577f23b3860b7189a49632dff0b13c480679d46591d98847f3\n",
            "  Stored in directory: /root/.cache/pip/wheels/ae/19/92/2d33078fe3b703cf34dcf6a670652c1d6a58c0a2ebf2b3a68d\n",
            "Successfully built planarity\n",
            "Installing collected packages: planarity\n",
            "Successfully installed planarity-0.4.1\n"
          ]
        }
      ]
    },
    {
      "cell_type": "code",
      "source": [
        "import numpy as np\n",
        "import math\n",
        "import pandas as pd\n",
        "import matplotlib.pyplot as plt\n",
        "import time"
      ],
      "metadata": {
        "id": "y09Cy8Fo4tp9"
      },
      "execution_count": 35,
      "outputs": []
    },
    {
      "cell_type": "code",
      "execution_count": 33,
      "metadata": {
        "id": "JPFYXSIgK8SH"
      },
      "outputs": [],
      "source": [
        "# Network Science\n",
        "# Correlation matrix as input, graph as output\n",
        "# MST Minimum Spanning Tree\n",
        "def MST(corr_mat,draw = False):\n",
        "  # corr_mat is the correlation matrix as np.array format\n",
        "  G = nx.from_numpy_matrix(corr_mat)\n",
        "  MST = nx.minimum_spanning_tree(G,weight='weight')\n",
        "  # MST is the output minimum spanning tree graph\n",
        "  if draw == True:\n",
        "    nx.draw_networkx(MST, pos=None, arrows=None, with_labels=True)\n",
        "  return MST\n",
        "\n",
        "\n",
        "# PMFG Planar Maximally Filtered Graph\n",
        "def PMFG(corr_mat,draw = False):\n",
        "  G = nx.from_numpy_matrix(corr_mat)\n",
        "\n",
        "  def sort_graph_edges(G):\n",
        "    sorted_edges = []\n",
        "    for source, dest, data in sorted(G.edges(data=True), key=lambda x: x[2]['weight'], reverse = True): \n",
        "        sorted_edges.append({'source': source,\n",
        "                             'dest': dest,\n",
        "                             'weight': data['weight']})\n",
        "    return sorted_edges # a list of dict\n",
        "\n",
        "  PMFG = nx.Graph()\n",
        "  ne_total = G.number_of_edges()\n",
        "  nb_nodes = len(G.nodes)\n",
        "  ne_pmfg = 3*(nb_nodes-2)\n",
        "  sorted_edges = sort_graph_edges(G)\n",
        "  t0 = time.time()\n",
        "  for i, edge in enumerate(sorted_edges):\n",
        "      PMFG.add_edge(edge['source'], edge['dest'], weight = edge['weight'])\n",
        "      if not planarity.is_planar(PMFG):\n",
        "          PMFG.remove_edge(edge['source'], edge['dest'])\n",
        "      ne = PMFG.number_of_edges()\n",
        "      print(\"Generating PMFG... added edges in PMFG %d/%d (%.2f%%) lookup edges in G %d/%d (%.2f%%) Elapsed TIme %.2f [sec]\"\\\n",
        "          %(ne, ne_pmfg, (ne/ne_pmfg)*100, i, ne_total, (i+1/ne_total)*100, time.time()-t0), end=\"\\r\")\n",
        "      if ne == ne_pmfg:\n",
        "          break\n",
        "\n",
        "  if draw == True:\n",
        "    nx.draw_networkx(PMFG, pos=None, arrows=None, with_labels=True)\n",
        "  return PMFG\n",
        "  "
      ]
    }
  ]
}