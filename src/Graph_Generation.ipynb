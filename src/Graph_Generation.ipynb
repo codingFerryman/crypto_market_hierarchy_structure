{
  "nbformat": 4,
  "nbformat_minor": 2,
  "metadata": {
    "colab": {
      "name": "Graph_Generation.ipynb",
      "provenance": [],
      "machine_shape": "hm",
      "authorship_tag": "ABX9TyMrHuYCgRab89gLh+4Z6MUy"
    },
    "kernelspec": {
      "name": "python3",
      "display_name": "Python 3.8.10 64-bit ('outliers-vis': conda)"
    },
    "language_info": {
      "name": "python",
      "version": "3.8.10",
      "mimetype": "text/x-python",
      "codemirror_mode": {
        "name": "ipython",
        "version": 3
      },
      "pygments_lexer": "ipython3",
      "nbconvert_exporter": "python",
      "file_extension": ".py"
    },
    "interpreter": {
      "hash": "808a8372834b67617ce0966436b3a19f2fb1ba0173aa6588578e85d93edfdc4a"
    }
  },
  "cells": [
    {
      "cell_type": "code",
      "execution_count": 5,
      "source": [
        "!pip install planarity\n",
        "import networkx as nx\n",
        "import planarity"
      ],
      "outputs": [
        {
          "output_type": "stream",
          "name": "stdout",
          "text": [
            "Requirement already satisfied: planarity in /opt/homebrew/Caskroom/miniconda/base/envs/outliers-vis/lib/python3.8/site-packages (0.4.1)\n",
            "Requirement already satisfied: cython in /opt/homebrew/Caskroom/miniconda/base/envs/outliers-vis/lib/python3.8/site-packages (from planarity) (0.29.25)\n",
            "Requirement already satisfied: setuptools in /opt/homebrew/Caskroom/miniconda/base/envs/outliers-vis/lib/python3.8/site-packages (from planarity) (52.0.0.post20210125)\n"
          ]
        }
      ],
      "metadata": {
        "colab": {
          "base_uri": "https://localhost:8080/"
        },
        "id": "ywHRMvx6Mb9T",
        "outputId": "ada3fb9b-b5a4-47a3-b386-3926c15ccfc6"
      }
    },
    {
      "cell_type": "code",
      "execution_count": 2,
      "source": [
        "import numpy as np\n",
        "import math\n",
        "import pandas as pd\n",
        "import matplotlib.pyplot as plt\n",
        "import time"
      ],
      "outputs": [],
      "metadata": {
        "id": "y09Cy8Fo4tp9"
      }
    },
    {
      "cell_type": "code",
      "execution_count": 9,
      "source": [
        "# Network Science\n",
        "# Correlation matrix as input, graph as output\n",
        "# MST Minimum Spanning Tree\n",
        "def MST(corr_mat,draw = False):\n",
        "  # corr_mat is the correlation matrix as np.array format\n",
        "  dist_mx = np.sqrt(2*(1-corr_mat))\n",
        "  G = nx.from_numpy_matrix(dist_mx)\n",
        "  MST = nx.minimum_spanning_tree(G,weight='weight')\n",
        "  # MST is the output minimum spanning tree graph\n",
        "  if draw == True:\n",
        "    nx.draw_networkx(MST, pos=None, arrows=None, with_labels=True)\n",
        "  return MST\n",
        "\n"
      ],
      "outputs": [],
      "metadata": {
        "id": "JPFYXSIgK8SH"
      }
    },
    {
      "cell_type": "code",
      "execution_count": null,
      "source": [
        "# PMFG Planar Maximally Filtered Graph\n",
        "def PMFG(corr_mat,draw = False):\n",
        "  dist_mx = np.sqrt(2*(1-corr_mat))\n",
        "  G = nx.from_numpy_matrix(dist_mx)\n",
        "\n",
        "  def sort_graph_edges(G):\n",
        "    sorted_edges = []\n",
        "    for source, dest, data in sorted(G.edges(data=True), key=lambda x: x[2]['weight'], reverse = True): \n",
        "        sorted_edges.append({'source': source,\n",
        "                             'dest': dest,\n",
        "                             'weight': data['weight']})\n",
        "    return sorted_edges # a list of dict\n",
        "\n",
        "  PMFG = nx.Graph()\n",
        "  ne_total = G.number_of_edges()\n",
        "  nb_nodes = len(G.nodes)\n",
        "  ne_pmfg = 3*(nb_nodes-2)\n",
        "  sorted_edges = sort_graph_edges(G)\n",
        "  t0 = time.time()\n",
        "  for i, edge in enumerate(sorted_edges):\n",
        "      PMFG.add_edge(edge['source'], edge['dest'], weight = edge['weight'])\n",
        "      if not planarity.is_planar(PMFG):\n",
        "          PMFG.remove_edge(edge['source'], edge['dest'])\n",
        "      ne = PMFG.number_of_edges()\n",
        "      print(\"Generating PMFG... added edges in PMFG %d/%d (%.2f%%) lookup edges in G %d/%d (%.2f%%) Elapsed TIme %.2f [sec]\"\\\n",
        "          %(ne, ne_pmfg, (ne/ne_pmfg)*100, i, ne_total, (i+1/ne_total)*100, time.time()-t0), end=\"\\r\")\n",
        "      if ne == ne_pmfg:\n",
        "          break\n",
        "\n",
        "  if draw == True:\n",
        "    nx.draw_networkx(PMFG, pos=None, arrows=None, with_labels=True)\n",
        "  return PMFG\n",
        "  "
      ],
      "outputs": [],
      "metadata": {}
    }
  ]
}
