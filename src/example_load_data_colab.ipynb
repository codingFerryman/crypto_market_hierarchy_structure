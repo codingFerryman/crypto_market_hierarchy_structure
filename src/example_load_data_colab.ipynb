{
  "nbformat": 4,
  "nbformat_minor": 0,
  "metadata": {
    "colab": {
      "name": "example_load_data_colab.ipynb",
      "provenance": [],
      "authorship_tag": "ABX9TyOQOHgtBo8lOZpa44A09nAO",
      "include_colab_link": true
    },
    "kernelspec": {
      "name": "python3",
      "display_name": "Python 3"
    },
    "language_info": {
      "name": "python"
    }
  },
  "cells": [
    {
      "cell_type": "markdown",
      "metadata": {
        "id": "view-in-github",
        "colab_type": "text"
      },
      "source": [
        "<a href=\"https://colab.research.google.com/github/codingFerryman/crypto_market_hierarchy_structure/blob/main/src/example_load_data_colab.ipynb\" target=\"_parent\"><img src=\"https://colab.research.google.com/assets/colab-badge.svg\" alt=\"Open In Colab\"/></a>"
      ]
    },
    {
      "cell_type": "code",
      "source": [
        "root_path = \"/content/crypto_market_hierarchy_structure\""
      ],
      "metadata": {
        "id": "Lfeq0tXtyJPF"
      },
      "execution_count": 15,
      "outputs": []
    },
    {
      "cell_type": "code",
      "metadata": {
        "id": "wP1it-QhuKep"
      },
      "source": [
        "!git clone https://github.com/codingFerryman/crypto_market_hierarchy_structure.git\n",
        "!pip install -r {root_path}/requirements.txt"
      ],
      "execution_count": null,
      "outputs": []
    },
    {
      "cell_type": "code",
      "source": [
        "from pathlib import Path\n",
        "import sys"
      ],
      "metadata": {
        "id": "9NX0RJHWxoqk"
      },
      "execution_count": 17,
      "outputs": []
    },
    {
      "cell_type": "code",
      "source": [
        "root_path = Path(root_path)\n",
        "data_path = Path(root_path, \"data\")\n",
        "src_path = Path(root_path, \"src\")\n",
        "\n",
        "sys.path.insert(0,str(src_path))"
      ],
      "metadata": {
        "id": "bSjL1szsxLDA"
      },
      "execution_count": 18,
      "outputs": []
    },
    {
      "cell_type": "code",
      "source": [
        "from utils import check_integrity, datestring_to_timestamp, load_data"
      ],
      "metadata": {
        "id": "6hSiW_93xVn5"
      },
      "execution_count": 20,
      "outputs": []
    },
    {
      "cell_type": "code",
      "source": [
        "# Follow /content/crypto_market_hierarchy_structure/src/example_load_data.ipynb"
      ],
      "metadata": {
        "id": "EZZtK8k0x9JV"
      },
      "execution_count": null,
      "outputs": []
    }
  ]
}