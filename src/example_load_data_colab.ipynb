{
  "nbformat": 4,
  "nbformat_minor": 0,
  "metadata": {
    "colab": {
      "name": "example_load_data_colab.ipynb",
      "provenance": [],
      "authorship_tag": "ABX9TyPuZgXl/a+H5SIU5f9TP8E/",
      "include_colab_link": true
    },
    "kernelspec": {
      "name": "python3",
      "display_name": "Python 3"
    },
    "language_info": {
      "name": "python"
    }
  },
  "cells": [
    {
      "cell_type": "markdown",
      "metadata": {
        "id": "view-in-github",
        "colab_type": "text"
      },
      "source": [
        "<a href=\"https://colab.research.google.com/github/codingFerryman/crypto_market_hierarchy_structure/blob/main/src/example_load_data_colab.ipynb\" target=\"_parent\"><img src=\"https://colab.research.google.com/assets/colab-badge.svg\" alt=\"Open In Colab\"/></a>"
      ]
    },
    {
      "cell_type": "code",
      "source": [
        "repo_path = \"/content/crypto_market_hierarchy_structure\""
      ],
      "metadata": {
        "id": "Lfeq0tXtyJPF"
      },
      "execution_count": 1,
      "outputs": []
    },
    {
      "cell_type": "code",
      "metadata": {
        "id": "wP1it-QhuKep",
        "colab": {
          "base_uri": "https://localhost:8080/"
        },
        "outputId": "c5cc040b-5926-433d-d13a-685006f7080b"
      },
      "source": [
        "! git clone https://github.com/codingFerryman/crypto_market_hierarchy_structure.git\n",
        "! cd {repo_path} && git pull\n",
        "! pip install -r {repo_path}/requirements.txt"
      ],
      "execution_count": 2,
      "outputs": [
        {
          "output_type": "stream",
          "name": "stdout",
          "text": [
            "fatal: destination path 'crypto_market_hierarchy_structure' already exists and is not an empty directory.\n",
            "Already up to date.\n",
            "Requirement already satisfied: requests in /usr/local/lib/python3.7/dist-packages (from -r /content/crypto_market_hierarchy_structure/requirements.txt (line 1)) (2.23.0)\n",
            "Requirement already satisfied: ciso8601 in /usr/local/lib/python3.7/dist-packages (from -r /content/crypto_market_hierarchy_structure/requirements.txt (line 2)) (2.2.0)\n",
            "Requirement already satisfied: coloredlogs in /usr/local/lib/python3.7/dist-packages (from -r /content/crypto_market_hierarchy_structure/requirements.txt (line 3)) (15.0.1)\n",
            "Requirement already satisfied: pandas in /usr/local/lib/python3.7/dist-packages (from -r /content/crypto_market_hierarchy_structure/requirements.txt (line 4)) (1.1.5)\n",
            "Requirement already satisfied: tqdm in /usr/local/lib/python3.7/dist-packages (from -r /content/crypto_market_hierarchy_structure/requirements.txt (line 5)) (4.62.3)\n",
            "Requirement already satisfied: jupyter in /usr/local/lib/python3.7/dist-packages (from -r /content/crypto_market_hierarchy_structure/requirements.txt (line 6)) (1.0.0)\n",
            "Requirement already satisfied: pytz in /usr/local/lib/python3.7/dist-packages (from -r /content/crypto_market_hierarchy_structure/requirements.txt (line 7)) (2018.9)\n",
            "Requirement already satisfied: idna<3,>=2.5 in /usr/local/lib/python3.7/dist-packages (from requests->-r /content/crypto_market_hierarchy_structure/requirements.txt (line 1)) (2.10)\n",
            "Requirement already satisfied: urllib3!=1.25.0,!=1.25.1,<1.26,>=1.21.1 in /usr/local/lib/python3.7/dist-packages (from requests->-r /content/crypto_market_hierarchy_structure/requirements.txt (line 1)) (1.24.3)\n",
            "Requirement already satisfied: certifi>=2017.4.17 in /usr/local/lib/python3.7/dist-packages (from requests->-r /content/crypto_market_hierarchy_structure/requirements.txt (line 1)) (2021.10.8)\n",
            "Requirement already satisfied: chardet<4,>=3.0.2 in /usr/local/lib/python3.7/dist-packages (from requests->-r /content/crypto_market_hierarchy_structure/requirements.txt (line 1)) (3.0.4)\n",
            "Requirement already satisfied: humanfriendly>=9.1 in /usr/local/lib/python3.7/dist-packages (from coloredlogs->-r /content/crypto_market_hierarchy_structure/requirements.txt (line 3)) (10.0)\n",
            "Requirement already satisfied: python-dateutil>=2.7.3 in /usr/local/lib/python3.7/dist-packages (from pandas->-r /content/crypto_market_hierarchy_structure/requirements.txt (line 4)) (2.8.2)\n",
            "Requirement already satisfied: numpy>=1.15.4 in /usr/local/lib/python3.7/dist-packages (from pandas->-r /content/crypto_market_hierarchy_structure/requirements.txt (line 4)) (1.19.5)\n",
            "Requirement already satisfied: six>=1.5 in /usr/local/lib/python3.7/dist-packages (from python-dateutil>=2.7.3->pandas->-r /content/crypto_market_hierarchy_structure/requirements.txt (line 4)) (1.15.0)\n",
            "Requirement already satisfied: ipywidgets in /usr/local/lib/python3.7/dist-packages (from jupyter->-r /content/crypto_market_hierarchy_structure/requirements.txt (line 6)) (7.6.5)\n",
            "Requirement already satisfied: notebook in /usr/local/lib/python3.7/dist-packages (from jupyter->-r /content/crypto_market_hierarchy_structure/requirements.txt (line 6)) (5.3.1)\n",
            "Requirement already satisfied: jupyter-console in /usr/local/lib/python3.7/dist-packages (from jupyter->-r /content/crypto_market_hierarchy_structure/requirements.txt (line 6)) (5.2.0)\n",
            "Requirement already satisfied: ipykernel in /usr/local/lib/python3.7/dist-packages (from jupyter->-r /content/crypto_market_hierarchy_structure/requirements.txt (line 6)) (4.10.1)\n",
            "Requirement already satisfied: qtconsole in /usr/local/lib/python3.7/dist-packages (from jupyter->-r /content/crypto_market_hierarchy_structure/requirements.txt (line 6)) (5.2.1)\n",
            "Requirement already satisfied: nbconvert in /usr/local/lib/python3.7/dist-packages (from jupyter->-r /content/crypto_market_hierarchy_structure/requirements.txt (line 6)) (5.6.1)\n",
            "Requirement already satisfied: traitlets>=4.1.0 in /usr/local/lib/python3.7/dist-packages (from ipykernel->jupyter->-r /content/crypto_market_hierarchy_structure/requirements.txt (line 6)) (5.1.1)\n",
            "Requirement already satisfied: ipython>=4.0.0 in /usr/local/lib/python3.7/dist-packages (from ipykernel->jupyter->-r /content/crypto_market_hierarchy_structure/requirements.txt (line 6)) (5.5.0)\n",
            "Requirement already satisfied: jupyter-client in /usr/local/lib/python3.7/dist-packages (from ipykernel->jupyter->-r /content/crypto_market_hierarchy_structure/requirements.txt (line 6)) (5.3.5)\n",
            "Requirement already satisfied: tornado>=4.0 in /usr/local/lib/python3.7/dist-packages (from ipykernel->jupyter->-r /content/crypto_market_hierarchy_structure/requirements.txt (line 6)) (5.1.1)\n",
            "Requirement already satisfied: setuptools>=18.5 in /usr/local/lib/python3.7/dist-packages (from ipython>=4.0.0->ipykernel->jupyter->-r /content/crypto_market_hierarchy_structure/requirements.txt (line 6)) (57.4.0)\n",
            "Requirement already satisfied: pygments in /usr/local/lib/python3.7/dist-packages (from ipython>=4.0.0->ipykernel->jupyter->-r /content/crypto_market_hierarchy_structure/requirements.txt (line 6)) (2.6.1)\n",
            "Requirement already satisfied: pickleshare in /usr/local/lib/python3.7/dist-packages (from ipython>=4.0.0->ipykernel->jupyter->-r /content/crypto_market_hierarchy_structure/requirements.txt (line 6)) (0.7.5)\n",
            "Requirement already satisfied: prompt-toolkit<2.0.0,>=1.0.4 in /usr/local/lib/python3.7/dist-packages (from ipython>=4.0.0->ipykernel->jupyter->-r /content/crypto_market_hierarchy_structure/requirements.txt (line 6)) (1.0.18)\n",
            "Requirement already satisfied: decorator in /usr/local/lib/python3.7/dist-packages (from ipython>=4.0.0->ipykernel->jupyter->-r /content/crypto_market_hierarchy_structure/requirements.txt (line 6)) (4.4.2)\n",
            "Requirement already satisfied: pexpect in /usr/local/lib/python3.7/dist-packages (from ipython>=4.0.0->ipykernel->jupyter->-r /content/crypto_market_hierarchy_structure/requirements.txt (line 6)) (4.8.0)\n",
            "Requirement already satisfied: simplegeneric>0.8 in /usr/local/lib/python3.7/dist-packages (from ipython>=4.0.0->ipykernel->jupyter->-r /content/crypto_market_hierarchy_structure/requirements.txt (line 6)) (0.8.1)\n",
            "Requirement already satisfied: wcwidth in /usr/local/lib/python3.7/dist-packages (from prompt-toolkit<2.0.0,>=1.0.4->ipython>=4.0.0->ipykernel->jupyter->-r /content/crypto_market_hierarchy_structure/requirements.txt (line 6)) (0.2.5)\n",
            "Requirement already satisfied: jupyterlab-widgets>=1.0.0 in /usr/local/lib/python3.7/dist-packages (from ipywidgets->jupyter->-r /content/crypto_market_hierarchy_structure/requirements.txt (line 6)) (1.0.2)\n",
            "Requirement already satisfied: nbformat>=4.2.0 in /usr/local/lib/python3.7/dist-packages (from ipywidgets->jupyter->-r /content/crypto_market_hierarchy_structure/requirements.txt (line 6)) (5.1.3)\n",
            "Requirement already satisfied: widgetsnbextension~=3.5.0 in /usr/local/lib/python3.7/dist-packages (from ipywidgets->jupyter->-r /content/crypto_market_hierarchy_structure/requirements.txt (line 6)) (3.5.2)\n",
            "Requirement already satisfied: ipython-genutils~=0.2.0 in /usr/local/lib/python3.7/dist-packages (from ipywidgets->jupyter->-r /content/crypto_market_hierarchy_structure/requirements.txt (line 6)) (0.2.0)\n",
            "Requirement already satisfied: jsonschema!=2.5.0,>=2.4 in /usr/local/lib/python3.7/dist-packages (from nbformat>=4.2.0->ipywidgets->jupyter->-r /content/crypto_market_hierarchy_structure/requirements.txt (line 6)) (2.6.0)\n",
            "Requirement already satisfied: jupyter-core in /usr/local/lib/python3.7/dist-packages (from nbformat>=4.2.0->ipywidgets->jupyter->-r /content/crypto_market_hierarchy_structure/requirements.txt (line 6)) (4.9.1)\n",
            "Requirement already satisfied: Send2Trash in /usr/local/lib/python3.7/dist-packages (from notebook->jupyter->-r /content/crypto_market_hierarchy_structure/requirements.txt (line 6)) (1.8.0)\n",
            "Requirement already satisfied: jinja2 in /usr/local/lib/python3.7/dist-packages (from notebook->jupyter->-r /content/crypto_market_hierarchy_structure/requirements.txt (line 6)) (2.11.3)\n",
            "Requirement already satisfied: terminado>=0.8.1 in /usr/local/lib/python3.7/dist-packages (from notebook->jupyter->-r /content/crypto_market_hierarchy_structure/requirements.txt (line 6)) (0.12.1)\n",
            "Requirement already satisfied: pyzmq>=13 in /usr/local/lib/python3.7/dist-packages (from jupyter-client->ipykernel->jupyter->-r /content/crypto_market_hierarchy_structure/requirements.txt (line 6)) (22.3.0)\n",
            "Requirement already satisfied: ptyprocess in /usr/local/lib/python3.7/dist-packages (from terminado>=0.8.1->notebook->jupyter->-r /content/crypto_market_hierarchy_structure/requirements.txt (line 6)) (0.7.0)\n",
            "Requirement already satisfied: MarkupSafe>=0.23 in /usr/local/lib/python3.7/dist-packages (from jinja2->notebook->jupyter->-r /content/crypto_market_hierarchy_structure/requirements.txt (line 6)) (2.0.1)\n",
            "Requirement already satisfied: testpath in /usr/local/lib/python3.7/dist-packages (from nbconvert->jupyter->-r /content/crypto_market_hierarchy_structure/requirements.txt (line 6)) (0.5.0)\n",
            "Requirement already satisfied: mistune<2,>=0.8.1 in /usr/local/lib/python3.7/dist-packages (from nbconvert->jupyter->-r /content/crypto_market_hierarchy_structure/requirements.txt (line 6)) (0.8.4)\n",
            "Requirement already satisfied: entrypoints>=0.2.2 in /usr/local/lib/python3.7/dist-packages (from nbconvert->jupyter->-r /content/crypto_market_hierarchy_structure/requirements.txt (line 6)) (0.3)\n",
            "Requirement already satisfied: bleach in /usr/local/lib/python3.7/dist-packages (from nbconvert->jupyter->-r /content/crypto_market_hierarchy_structure/requirements.txt (line 6)) (4.1.0)\n",
            "Requirement already satisfied: pandocfilters>=1.4.1 in /usr/local/lib/python3.7/dist-packages (from nbconvert->jupyter->-r /content/crypto_market_hierarchy_structure/requirements.txt (line 6)) (1.5.0)\n",
            "Requirement already satisfied: defusedxml in /usr/local/lib/python3.7/dist-packages (from nbconvert->jupyter->-r /content/crypto_market_hierarchy_structure/requirements.txt (line 6)) (0.7.1)\n",
            "Requirement already satisfied: packaging in /usr/local/lib/python3.7/dist-packages (from bleach->nbconvert->jupyter->-r /content/crypto_market_hierarchy_structure/requirements.txt (line 6)) (21.3)\n",
            "Requirement already satisfied: webencodings in /usr/local/lib/python3.7/dist-packages (from bleach->nbconvert->jupyter->-r /content/crypto_market_hierarchy_structure/requirements.txt (line 6)) (0.5.1)\n",
            "Requirement already satisfied: pyparsing!=3.0.5,>=2.0.2 in /usr/local/lib/python3.7/dist-packages (from packaging->bleach->nbconvert->jupyter->-r /content/crypto_market_hierarchy_structure/requirements.txt (line 6)) (3.0.6)\n",
            "Requirement already satisfied: qtpy in /usr/local/lib/python3.7/dist-packages (from qtconsole->jupyter->-r /content/crypto_market_hierarchy_structure/requirements.txt (line 6)) (1.11.2)\n"
          ]
        }
      ]
    },
    {
      "cell_type": "code",
      "source": [
        "from pathlib import Path\n",
        "import sys"
      ],
      "metadata": {
        "id": "9NX0RJHWxoqk"
      },
      "execution_count": 3,
      "outputs": []
    },
    {
      "cell_type": "code",
      "source": [
        "repo_path = Path(repo_path)\n",
        "data_path = Path(repo_path, \"data\")\n",
        "src_path = Path(repo_path, \"src\")\n",
        "\n",
        "sys.path.insert(0, str(src_path))"
      ],
      "metadata": {
        "id": "bSjL1szsxLDA"
      },
      "execution_count": 4,
      "outputs": []
    },
    {
      "cell_type": "code",
      "source": [
        "from utils import check_integrity, datestring_to_timestamp, load_data"
      ],
      "metadata": {
        "id": "6hSiW_93xVn5"
      },
      "execution_count": 5,
      "outputs": []
    },
    {
      "cell_type": "code",
      "source": [
        "# Follow /content/crypto_market_hierarchy_structure/src/example_load_data.ipynb"
      ],
      "metadata": {
        "id": "EZZtK8k0x9JV"
      },
      "execution_count": 6,
      "outputs": []
    }
  ]
}