{
 "nbformat": 4,
 "nbformat_minor": 0,
 "metadata": {
  "colab": {
   "name": "example_load_data_colab.ipynb",
   "provenance": [],
   "authorship_tag": "ABX9TyPvHgwrWPBhXhq+4fcsPtoe",
   "include_colab_link": true
  },
  "kernelspec": {
   "name": "python3",
   "display_name": "Python 3"
  },
  "language_info": {
   "name": "python"
  }
 },
 "cells": [
  {
   "cell_type": "markdown",
   "metadata": {
    "id": "view-in-github",
    "colab_type": "text"
   },
   "source": [
    "<a href=\"https://colab.research.google.com/github/codingFerryman/crypto_market_hierarchy_structure/blob/main/src/example_load_data_colab.ipynb\" target=\"_parent\"><img src=\"https://colab.research.google.com/assets/colab-badge.svg\" alt=\"Open In Colab\"/></a>"
   ]
  },
  {
   "cell_type": "code",
   "source": [
    "repo_path = \"/content/crypto_market_hierarchy_structure\""
   ],
   "metadata": {
    "id": "Lfeq0tXtyJPF"
   },
   "execution_count": 1,
   "outputs": []
  },
  {
   "cell_type": "code",
   "metadata": {
    "id": "wP1it-QhuKep"
   },
   "source": [
    "! git clone https://github.com/codingFerryman/crypto_market_hierarchy_structure.git\n",
    "! cd {repo_path} && git pull\n",
    "! pip install -q -r {repo_path}/requirements.txt"
   ],
   "execution_count": null,
   "outputs": []
  },
  {
   "cell_type": "code",
   "source": [
    "from pathlib import Path\n",
    "import sys"
   ],
   "metadata": {
    "id": "9NX0RJHWxoqk"
   },
   "execution_count": 3,
   "outputs": []
  },
  {
   "cell_type": "code",
   "source": [
    "repo_path = Path(repo_path)\n",
    "data_path = Path(repo_path, \"data\")\n",
    "src_path = Path(repo_path, \"src\")\n",
    "\n",
    "sys.path.insert(0, str(src_path))"
   ],
   "metadata": {
    "id": "bSjL1szsxLDA"
   },
   "execution_count": 4,
   "outputs": []
  },
  {
   "cell_type": "code",
   "source": [
    "from utils import check_integrity, datestring_to_timestamp, load_data"
   ],
   "metadata": {
    "id": "6hSiW_93xVn5"
   },
   "execution_count": 5,
   "outputs": []
  },
  {
   "cell_type": "code",
   "source": [
    "# Follow /content/crypto_market_hierarchy_structure/src/example_load_data.ipynb"
   ],
   "metadata": {
    "id": "EZZtK8k0x9JV"
   },
   "execution_count": 6,
   "outputs": []
  }
 ]
}